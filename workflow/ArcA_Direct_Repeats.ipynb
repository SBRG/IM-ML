{
 "cells": [
  {
   "cell_type": "code",
   "execution_count": 1,
   "metadata": {
    "scrolled": true
   },
   "outputs": [
    {
     "name": "stderr",
     "output_type": "stream",
     "text": [
      "../bitome-kb\\bitome\\genbank.py:345: UserWarning: GEM-PRO sequence and coded sequence are not the same for b0064\n",
      "  warn(f'GEM-PRO sequence and coded sequence are not the same for {locus_tag}')\n",
      "../bitome-kb\\bitome\\genbank.py:345: UserWarning: GEM-PRO sequence and coded sequence are not the same for b0142\n",
      "  warn(f'GEM-PRO sequence and coded sequence are not the same for {locus_tag}')\n",
      "../bitome-kb\\bitome\\genbank.py:328: UserWarning: No GEM-PRO file found for b4586\n",
      "  warn(f'No GEM-PRO file found for {locus_tag}')\n",
      "../bitome-kb\\bitome\\genbank.py:345: UserWarning: GEM-PRO sequence and coded sequence are not the same for b0292\n",
      "  warn(f'GEM-PRO sequence and coded sequence are not the same for {locus_tag}')\n",
      "../bitome-kb\\bitome\\genbank.py:345: UserWarning: GEM-PRO sequence and coded sequence are not the same for b0349\n",
      "  warn(f'GEM-PRO sequence and coded sequence are not the same for {locus_tag}')\n",
      "../bitome-kb\\bitome\\genbank.py:328: UserWarning: No GEM-PRO file found for b4572\n",
      "  warn(f'No GEM-PRO file found for {locus_tag}')\n",
      "../bitome-kb\\bitome\\genbank.py:328: UserWarning: No GEM-PRO file found for b4588\n",
      "  warn(f'No GEM-PRO file found for {locus_tag}')\n",
      "../bitome-kb\\bitome\\genbank.py:328: UserWarning: No GEM-PRO file found for b4589\n",
      "  warn(f'No GEM-PRO file found for {locus_tag}')\n",
      "../bitome-kb\\bitome\\genbank.py:345: UserWarning: GEM-PRO sequence and coded sequence are not the same for b0615\n",
      "  warn(f'GEM-PRO sequence and coded sequence are not the same for {locus_tag}')\n",
      "../bitome-kb\\bitome\\genbank.py:345: UserWarning: GEM-PRO sequence and coded sequence are not the same for b0642\n",
      "  warn(f'GEM-PRO sequence and coded sequence are not the same for {locus_tag}')\n",
      "../bitome-kb\\bitome\\genbank.py:328: UserWarning: No GEM-PRO file found for b4637\n",
      "  warn(f'No GEM-PRO file found for {locus_tag}')\n",
      "../bitome-kb\\bitome\\genbank.py:345: UserWarning: GEM-PRO sequence and coded sequence are not the same for b0772\n",
      "  warn(f'GEM-PRO sequence and coded sequence are not the same for {locus_tag}')\n",
      "../bitome-kb\\bitome\\genbank.py:345: UserWarning: GEM-PRO sequence and coded sequence are not the same for b0852\n",
      "  warn(f'GEM-PRO sequence and coded sequence are not the same for {locus_tag}')\n",
      "../bitome-kb\\bitome\\genbank.py:345: UserWarning: GEM-PRO sequence and coded sequence are not the same for b0937\n",
      "  warn(f'GEM-PRO sequence and coded sequence are not the same for {locus_tag}')\n",
      "../bitome-kb\\bitome\\genbank.py:345: UserWarning: GEM-PRO sequence and coded sequence are not the same for b1012\n",
      "  warn(f'GEM-PRO sequence and coded sequence are not the same for {locus_tag}')\n",
      "../bitome-kb\\bitome\\genbank.py:345: UserWarning: GEM-PRO sequence and coded sequence are not the same for b1120\n",
      "  warn(f'GEM-PRO sequence and coded sequence are not the same for {locus_tag}')\n",
      "../bitome-kb\\bitome\\genbank.py:328: UserWarning: No GEM-PRO file found for b4593\n",
      "  warn(f'No GEM-PRO file found for {locus_tag}')\n",
      "../bitome-kb\\bitome\\genbank.py:328: UserWarning: No GEM-PRO file found for b4594\n",
      "  warn(f'No GEM-PRO file found for {locus_tag}')\n",
      "../bitome-kb\\bitome\\genbank.py:345: UserWarning: GEM-PRO sequence and coded sequence are not the same for b1179\n",
      "  warn(f'GEM-PRO sequence and coded sequence are not the same for {locus_tag}')\n",
      "../bitome-kb\\bitome\\genbank.py:328: UserWarning: No GEM-PRO file found for b4595\n",
      "  warn(f'No GEM-PRO file found for {locus_tag}')\n",
      "../bitome-kb\\bitome\\genbank.py:142: UserWarning: No coded feature found for b4714; no Gene object created\n",
      "  warn(f'No coded feature found for {locus_tag}; no Gene object created')\n",
      "../bitome-kb\\bitome\\genbank.py:341: UserWarning: Selenocysteine found in GEM-PRO sequence for b1474; Genbank translation audit skipped\n",
      "  warn(f'Selenocysteine found in GEM-PRO sequence for {locus_tag}; Genbank translation audit skipped')\n",
      "../bitome-kb\\bitome\\genbank.py:345: UserWarning: GEM-PRO sequence and coded sequence are not the same for b1701\n",
      "  warn(f'GEM-PRO sequence and coded sequence are not the same for {locus_tag}')\n",
      "../bitome-kb\\bitome\\genbank.py:345: UserWarning: GEM-PRO sequence and coded sequence are not the same for b1807\n",
      "  warn(f'GEM-PRO sequence and coded sequence are not the same for {locus_tag}')\n",
      "../bitome-kb\\bitome\\genbank.py:345: UserWarning: GEM-PRO sequence and coded sequence are not the same for b1876\n",
      "  warn(f'GEM-PRO sequence and coded sequence are not the same for {locus_tag}')\n",
      "../bitome-kb\\bitome\\genbank.py:328: UserWarning: No GEM-PRO file found for b1893\n",
      "  warn(f'No GEM-PRO file found for {locus_tag}')\n",
      "../bitome-kb\\bitome\\genbank.py:328: UserWarning: No GEM-PRO file found for b1894\n",
      "  warn(f'No GEM-PRO file found for {locus_tag}')\n",
      "../bitome-kb\\bitome\\genbank.py:345: UserWarning: GEM-PRO sequence and coded sequence are not the same for b1985\n",
      "  warn(f'GEM-PRO sequence and coded sequence are not the same for {locus_tag}')\n",
      "../bitome-kb\\bitome\\genbank.py:345: UserWarning: GEM-PRO sequence and coded sequence are not the same for b2253\n",
      "  warn(f'GEM-PRO sequence and coded sequence are not the same for {locus_tag}')\n",
      "../bitome-kb\\bitome\\genbank.py:328: UserWarning: No GEM-PRO file found for b2442\n",
      "  warn(f'No GEM-PRO file found for {locus_tag}')\n",
      "../bitome-kb\\bitome\\genbank.py:328: UserWarning: No GEM-PRO file found for b2443\n",
      "  warn(f'No GEM-PRO file found for {locus_tag}')\n",
      "../bitome-kb\\bitome\\genbank.py:328: UserWarning: No GEM-PRO file found for b2444\n",
      "  warn(f'No GEM-PRO file found for {locus_tag}')\n",
      "../bitome-kb\\bitome\\genbank.py:328: UserWarning: No GEM-PRO file found for b2445\n",
      "  warn(f'No GEM-PRO file found for {locus_tag}')\n",
      "../bitome-kb\\bitome\\genbank.py:328: UserWarning: No GEM-PRO file found for b2446\n",
      "  warn(f'No GEM-PRO file found for {locus_tag}')\n",
      "../bitome-kb\\bitome\\genbank.py:328: UserWarning: No GEM-PRO file found for b2447\n",
      "  warn(f'No GEM-PRO file found for {locus_tag}')\n",
      "../bitome-kb\\bitome\\genbank.py:328: UserWarning: No GEM-PRO file found for b2448\n",
      "  warn(f'No GEM-PRO file found for {locus_tag}')\n",
      "../bitome-kb\\bitome\\genbank.py:328: UserWarning: No GEM-PRO file found for b2449\n",
      "  warn(f'No GEM-PRO file found for {locus_tag}')\n",
      "../bitome-kb\\bitome\\genbank.py:328: UserWarning: No GEM-PRO file found for b2450\n",
      "  warn(f'No GEM-PRO file found for {locus_tag}')\n",
      "../bitome-kb\\bitome\\genbank.py:328: UserWarning: No GEM-PRO file found for b4706\n",
      "  warn(f'No GEM-PRO file found for {locus_tag}')\n",
      "../bitome-kb\\bitome\\genbank.py:345: UserWarning: GEM-PRO sequence and coded sequence are not the same for b2730\n",
      "  warn(f'GEM-PRO sequence and coded sequence are not the same for {locus_tag}')\n",
      "../bitome-kb\\bitome\\genbank.py:345: UserWarning: GEM-PRO sequence and coded sequence are not the same for b2890\n",
      "  warn(f'GEM-PRO sequence and coded sequence are not the same for {locus_tag}')\n",
      "../bitome-kb\\bitome\\genbank.py:345: UserWarning: GEM-PRO sequence and coded sequence are not the same for b2957\n",
      "  warn(f'GEM-PRO sequence and coded sequence are not the same for {locus_tag}')\n",
      "../bitome-kb\\bitome\\genbank.py:345: UserWarning: GEM-PRO sequence and coded sequence are not the same for b3039\n",
      "  warn(f'GEM-PRO sequence and coded sequence are not the same for {locus_tag}')\n",
      "../bitome-kb\\bitome\\genbank.py:345: UserWarning: GEM-PRO sequence and coded sequence are not the same for b3453\n",
      "  warn(f'GEM-PRO sequence and coded sequence are not the same for {locus_tag}')\n",
      "../bitome-kb\\bitome\\genbank.py:328: UserWarning: No GEM-PRO file found for b4613\n",
      "  warn(f'No GEM-PRO file found for {locus_tag}')\n",
      "../bitome-kb\\bitome\\genbank.py:345: UserWarning: GEM-PRO sequence and coded sequence are not the same for b3701\n",
      "  warn(f'GEM-PRO sequence and coded sequence are not the same for {locus_tag}')\n",
      "../bitome-kb\\bitome\\genbank.py:345: UserWarning: GEM-PRO sequence and coded sequence are not the same for b3732\n",
      "  warn(f'GEM-PRO sequence and coded sequence are not the same for {locus_tag}')\n",
      "../bitome-kb\\bitome\\genbank.py:345: UserWarning: GEM-PRO sequence and coded sequence are not the same for b3830\n",
      "  warn(f'GEM-PRO sequence and coded sequence are not the same for {locus_tag}')\n",
      "../bitome-kb\\bitome\\genbank.py:345: UserWarning: GEM-PRO sequence and coded sequence are not the same for b3889\n",
      "  warn(f'GEM-PRO sequence and coded sequence are not the same for {locus_tag}')\n",
      "../bitome-kb\\bitome\\genbank.py:341: UserWarning: Selenocysteine found in GEM-PRO sequence for b3894; Genbank translation audit skipped\n",
      "  warn(f'Selenocysteine found in GEM-PRO sequence for {locus_tag}; Genbank translation audit skipped')\n",
      "../bitome-kb\\bitome\\genbank.py:345: UserWarning: GEM-PRO sequence and coded sequence are not the same for b3916\n",
      "  warn(f'GEM-PRO sequence and coded sequence are not the same for {locus_tag}')\n"
     ]
    },
    {
     "name": "stderr",
     "output_type": "stream",
     "text": [
      "../bitome-kb\\bitome\\genbank.py:345: UserWarning: GEM-PRO sequence and coded sequence are not the same for b3963\n",
      "  warn(f'GEM-PRO sequence and coded sequence are not the same for {locus_tag}')\n",
      "../bitome-kb\\bitome\\genbank.py:328: UserWarning: No GEM-PRO file found for b4620\n",
      "  warn(f'No GEM-PRO file found for {locus_tag}')\n",
      "../bitome-kb\\bitome\\genbank.py:328: UserWarning: No GEM-PRO file found for b4621\n",
      "  warn(f'No GEM-PRO file found for {locus_tag}')\n",
      "../bitome-kb\\bitome\\genbank.py:341: UserWarning: Selenocysteine found in GEM-PRO sequence for b4079; Genbank translation audit skipped\n",
      "  warn(f'Selenocysteine found in GEM-PRO sequence for {locus_tag}; Genbank translation audit skipped')\n",
      "../bitome-kb\\bitome\\genbank.py:328: UserWarning: No GEM-PRO file found for b4622\n",
      "  warn(f'No GEM-PRO file found for {locus_tag}')\n",
      "../bitome-kb\\bitome\\genbank.py:345: UserWarning: GEM-PRO sequence and coded sequence are not the same for b4115\n",
      "  warn(f'GEM-PRO sequence and coded sequence are not the same for {locus_tag}')\n",
      "../bitome-kb\\bitome\\genbank.py:345: UserWarning: GEM-PRO sequence and coded sequence are not the same for b4129\n",
      "  warn(f'GEM-PRO sequence and coded sequence are not the same for {locus_tag}')\n",
      "../bitome-kb\\bitome\\genbank.py:345: UserWarning: GEM-PRO sequence and coded sequence are not the same for b4200\n",
      "  warn(f'GEM-PRO sequence and coded sequence are not the same for {locus_tag}')\n"
     ]
    }
   ],
   "source": [
    "from pathlib import Path\n",
    "import sys\n",
    "sys.path.append('../bitome-kb/')\n",
    "import matplotlib.pyplot as plt\n",
    "import numpy as np\n",
    "import pandas as pd\n",
    "import scipy.sparse as sparse\n",
    "import seaborn as sns\n",
    "from sklearn.ensemble import RandomForestClassifier\n",
    "from sklearn.linear_model import LogisticRegression\n",
    "from sklearn.model_selection import cross_validate, RandomizedSearchCV\n",
    "from sklearn.neural_network import MLPClassifier\n",
    "from sklearn.preprocessing import StandardScaler\n",
    "from sklearn.svm import LinearSVC\n",
    "from sklearn.utils.class_weight import compute_class_weight\n",
    "from bitome.core import Bitome\n",
    "from math import log,exp,inf\n",
    "# bitome = Bitome.init_from_file('../bitome-kb/bitome.pkl')\n",
    "bitome = Bitome(Path('../bitome-kb/data', 'NC_000913.3.gb'))\n",
    "bitome.load_data(regulon_db=True)\n",
    "\n",
    "from Bio.SeqFeature import FeatureLocation\n",
    "from Bio.SeqRecord import SeqRecord\n",
    "from Bio import SeqIO\n",
    "from Bio.Seq import Seq\n",
    "\n",
    "from feature_functions import *\n",
    "import pickle\n",
    "import copy"
   ]
  },
  {
   "cell_type": "code",
   "execution_count": 2,
   "metadata": {},
   "outputs": [],
   "source": [
    "#Modified\n",
    "import ast\n",
    "# im_info = pd.read_csv('../data/precise2_im_info.csv')\n",
    "im_info = pd.read_csv('../data/precise1_im_info.csv')\n",
    "IM_genes = {}\n",
    "for i in range(len(im_info['im_name'])):\n",
    "    IM_genes[im_info['im_name'][i]] = ast.literal_eval( im_info['genes'][i] )\n",
    "\n",
    "# avg_features = pd.read_csv('../data/features_avg.csv')\n",
    "avg_features = pd.read_csv('../data/features_avg_precise1_plus.csv')"
   ]
  },
  {
   "cell_type": "code",
   "execution_count": 3,
   "metadata": {},
   "outputs": [],
   "source": [
    "b_g = {}\n",
    "for g in bitome.genes:\n",
    "    b_g[g.locus_tag] = g.name"
   ]
  },
  {
   "cell_type": "code",
   "execution_count": 4,
   "metadata": {},
   "outputs": [],
   "source": [
    "# load regulons\n",
    "pwm_db = rpwm('../data/motif_pwm_db.txt')\n",
    "\n",
    "# tf_list =['AraC', 'ArcA', 'ArgP', 'ArgR', 'BaeR', 'BasR', 'CysB', 'CpxR', \n",
    "#           'Cra', 'CRP', 'Mlc', 'MqsA', 'EvgA', 'ExuR', 'FadR', 'IclR', 'IscR', \n",
    "#           'IHF', 'FhlA', 'FlhDC', 'FNR', 'Fur', 'GadE', 'GadW', 'GadX', 'GalR', 'GalS', \n",
    "#           'GcvA', 'GlpR', 'GlrR', 'GntR', 'TyrR', 'LexA', 'LeuO', 'Lrp', 'MalT', 'MetJ', 'Nac', \n",
    "#           'NagC', 'NanR', 'NarL', 'NarP', 'NrdR', 'NsrR', 'NtrC', 'OmpR', 'OxyR', 'PdhR', 'PhoB', 'PhoP',\n",
    "#           'PurR', 'PuuR', 'RcsAB', 'RhaS', 'RutR', 'SoxS', 'TrpR', 'XylR', 'YdeO']\n",
    "\n",
    "#updated tf_list\n",
    "tf_list =['AraC', 'ArcA', 'ArgP', 'ArgR', 'BaeR', 'BasR', 'CysB', 'CpxR', \n",
    "          'Cra', 'CRP', 'Mlc', 'MqsA', 'EvgA', 'ExuR', 'FadR', 'IclR', 'IscR', \n",
    "          'IHF', 'FhlA', 'FlhDC', 'FNR', 'Fur', 'GadE', 'GadW', 'GadX', 'GalR', 'GalS', \n",
    "          'GcvA', 'GlpR', 'GlrR', 'GntR', 'TyrR', 'LexA', 'LeuO', 'Lrp', 'MalT', 'MetJ', 'Nac', \n",
    "          'NagC', 'NanR', 'NarL', 'NarP', 'NrdR', 'NsrR', 'NtrC', 'OmpR', 'OxyR', 'PdhR', 'PhoB', 'PhoP',\n",
    "          'PurR', 'PuuR', 'RcsAB', 'RhaS', 'RutR', 'SoxS', 'TrpR', 'XylR', 'YdeO'\n",
    "         #[MODIFED] added motif\n",
    "          ,'BtsR', 'Cbl', 'PyrR', 'ilvY', 'AllR', 'PlaR', 'Zur', 'ZntR', 'RbsR', 'PrpR', 'CueR', 'HprR', 'CusR', 'AtoC']\n",
    "\n",
    "regulon_genes={}\n",
    "for TF in bitome.transcription_factors:\n",
    "    if TF.name in tf_list:\n",
    "        regulon_genes[TF.name] = []   \n",
    "        for r in TF.regulons:\n",
    "                for p in list(r.regulated_promoters.values())[0]:\n",
    "                    if p.transcription_unit != None and len(p.transcription_unit.genes)>0:\n",
    "                        for g in p.transcription_unit.genes:\n",
    "                            regulon_genes[TF.name].append(   g.locus_tag )\n",
    "# convert gene name and b number.\n",
    "b_g = {}\n",
    "for g in bitome.genes:\n",
    "    b_g[ g.locus_tag ] = g.name"
   ]
  },
  {
   "cell_type": "code",
   "execution_count": 5,
   "metadata": {},
   "outputs": [],
   "source": [
    "#Precise2 ArcA, Anerobased, Fnr/Fur\n",
    "import ast\n",
    "im_info = pd.read_csv('../data/precise2_im_info.csv')\n",
    "\n",
    "IM_genes2 = {}\n",
    "for i in range(len(im_info['im_name'])):\n",
    "    IM_genes2[im_info['im_name'][i]] = ast.literal_eval( im_info['genes'][i] )\n"
   ]
  },
  {
   "cell_type": "code",
   "execution_count": 6,
   "metadata": {},
   "outputs": [
    {
     "name": "stderr",
     "output_type": "stream",
     "text": [
      "findfont: Font family ['sans-serif'] not found. Falling back to DejaVu Sans.\n",
      "findfont: Generic family 'sans-serif' not found because none of the following families were found: Helvetica\n",
      "findfont: Font family ['sans-serif'] not found. Falling back to DejaVu Sans.\n",
      "findfont: Generic family 'sans-serif' not found because none of the following families were found: Helvetica\n"
     ]
    },
    {
     "data": {
      "image/png": "[encoded data removed]",
      "text/plain": [
       "<Figure size 432x288 with 1 Axes>"
      ]
     },
     "metadata": {},
     "output_type": "display_data"
    }
   ],
   "source": [
    "#Modified\n",
    "from matplotlib_venn import venn2\n",
    "import matplotlib.font_manager\n",
    "\n",
    "#ArcA-1\n",
    "venn2([set(IM_genes['ArcA-1']),set(regulon_genes['ArcA'])],set_labels = ('ICA_Regulon','ChIP_Regulon'))\n",
    "plt.title('ArcA-1')\n",
    "\n",
    "# #ArcA-2\n",
    "# venn2([set(IM_genes['ArcA-2']),set(regulon_genes['ArcA'])],set_labels = ('ICA_Regulon','ChIP_Regulon'))\n",
    "# plt.title('ArcA-2')\n",
    "\n",
    "# ArcA-1 + ArcA-2\n",
    "# ArcA_combined = copy.copy(IM_genes['ArcA-2'])\n",
    "# ArcA_combined.extend(x for x in IM_genes['ArcA-1'] if x not in IM_genes['ArcA-2'])\n",
    "# venn2([set(ArcA_combined),set(regulon_genes['ArcA'])],set_labels = ('ICA_Regulon','ChIP_Regulon'))\n",
    "# plt.title('ArcA_combined')\n",
    "\n",
    "plt.savefig('../data/Figure 3B.svg', bbox_inches='tight') "
   ]
  },
  {
   "cell_type": "code",
   "execution_count": 7,
   "metadata": {},
   "outputs": [],
   "source": [
    "# # Modified [Not use]\n",
    "# # compare orginal ArcA and ArcA_combined\n",
    "# import copy\n",
    "\n",
    "# ArcA_ori = ['b0312', 'b0313', 'b0314', 'b0330', 'b0346', 'b0458', 'b0720', 'b4735', 'b0721', 'b0733', 'b0904', 'b1020',\n",
    "#  'b1122', 'b1163', 'b1297', 'b1298', 'b1332', 'b1384', 'b1422', 'b1423', 'b1607', 'b1612', 'b1748', 'b1777', 'b1778',\n",
    "#  'b2150', 'b2181', 'b2210', 'b2310', 'b2518', 'b2537', 'b2587', 'b2844', 'b2980', 'b3351', 'b3408', 'b3409', 'b3453',\n",
    "#  'b3603', 'b3819', 'b3820', 'b3846', 'b3962', 'b3995', 'b4210', 'b4332', 'b4340']\n",
    "\n",
    "# test = copy.copy(ArcA_ori)\n",
    "# test.extend(x for x in ArcA_combined if x not in test) \n",
    "\n",
    "# diff=len(ArcA_combined)+len(ArcA_ori)-len(test)\n",
    "# #24 different genes in comparison to ArcA-1 and ArcA-2 combined"
   ]
  },
  {
   "cell_type": "markdown",
   "metadata": {},
   "source": [
    "# 1. Get ArcA DR motifs (2DR, 3DR, 4DR) \n",
    "* reference:https://www.ncbi.nlm.nih.gov/pmc/articles/PMC3798270/\n"
   ]
  },
  {
   "cell_type": "code",
   "execution_count": 8,
   "metadata": {},
   "outputs": [],
   "source": [
    "import logomaker as lm\n",
    "import Bio.motifs as motifs"
   ]
  },
  {
   "cell_type": "code",
   "execution_count": 9,
   "metadata": {},
   "outputs": [],
   "source": [
    "ArcA_2DR = []\n",
    "ArcA_3DR = []\n",
    "ArcA_4DR = []\n",
    "\n",
    "ArcA_DR = []\n",
    "ffile = open('../data/ArcA_DR.txt', \"rt\")\n",
    "lines = ffile.readlines()\n",
    "ffile.close()\n",
    "for line in lines:\n",
    "    if line[0] == '>':\n",
    "        continue\n",
    "    seq = line.strip()\n",
    "    if len(seq) >40:\n",
    "        ArcA_DR.append( seq[0:10])\n",
    "        ArcA_DR.append( seq[11:21])\n",
    "        ArcA_DR.append( seq[22:32])\n",
    "        ArcA_DR.append( seq[33:43])\n",
    "        ArcA_4DR.append( seq)\n",
    "    elif len(seq) > 30:\n",
    "        ArcA_DR.append( seq[0:10])\n",
    "        ArcA_DR.append( seq[11:21])\n",
    "        ArcA_DR.append( seq[22:32])\n",
    "        ArcA_3DR.append( seq )\n",
    "    else:\n",
    "        ArcA_DR.append( seq[0:10])\n",
    "        ArcA_DR.append( seq[11:21])\n",
    "        ArcA_2DR.append( seq )\n",
    "        ArcA_2DR = list(filter(lambda a: len(a) != 0, ArcA_2DR))\n",
    "        \n",
    "ArcA_DR = list(filter(lambda a: len(a) == 10, ArcA_DR))"
   ]
  },
  {
   "cell_type": "code",
   "execution_count": 10,
   "metadata": {},
   "outputs": [],
   "source": [
    "counts_mat = lm.alignment_to_matrix(ArcA_DR)"
   ]
  },
  {
   "cell_type": "code",
   "execution_count": 11,
   "metadata": {},
   "outputs": [],
   "source": [
    "M_DR = []\n",
    "for i in range(len(counts_mat['A']) ):\n",
    "    SUM = 4+ counts_mat['A'][i]+counts_mat['C'][i]+counts_mat['T'][i]+counts_mat['G'][i]\n",
    "    \n",
    "    M_DR.append( {'A':log( (counts_mat['A'][i]+1)/SUM ),\n",
    "                  'C':log( (counts_mat['C'][i]+1)/SUM ),\n",
    "                  'G':log( (counts_mat['G'][i]+1)/SUM ),\n",
    "                  'T':log( (counts_mat['T'][i]+1)/SUM  )   })"
   ]
  },
  {
   "cell_type": "code",
   "execution_count": 12,
   "metadata": {},
   "outputs": [
    {
     "name": "stderr",
     "output_type": "stream",
     "text": [
      "findfont: Font family ['sans'] not found. Falling back to DejaVu Sans.\n",
      "findfont: Generic family 'sans' not found because none of the following families were found: Helvetica\n"
     ]
    },
    {
     "data": {
      "text/plain": [
       "<logomaker.src.Logo.Logo at 0x218b00d2a90>"
      ]
     },
     "execution_count": 12,
     "metadata": {},
     "output_type": "execute_result"
    },
    {
     "data": {
      "image/png": "[encoded data removed]",
      "text/plain": [
       "<Figure size 720x180 with 1 Axes>"
      ]
     },
     "metadata": {
      "needs_background": "light"
     },
     "output_type": "display_data"
    }
   ],
   "source": [
    "lm.Logo(counts_mat)"
   ]
  },
  {
   "cell_type": "code",
   "execution_count": 13,
   "metadata": {},
   "outputs": [],
   "source": [
    "cm = {2:lm.alignment_to_matrix(ArcA_2DR),3:lm.alignment_to_matrix(ArcA_3DR),4:lm.alignment_to_matrix(ArcA_4DR)}"
   ]
  },
  {
   "cell_type": "code",
   "execution_count": 14,
   "metadata": {},
   "outputs": [
    {
     "data": {
      "image/png": "[encoded data removed]",
      "text/plain": [
       "<Figure size 936x360 with 3 Axes>"
      ]
     },
     "metadata": {
      "needs_background": "light"
     },
     "output_type": "display_data"
    }
   ],
   "source": [
    "fig, axs = plt.subplots(3,1,figsize=(13,5),sharex=True)\n",
    "for i in [2,3,4]:\n",
    "    lm.Logo( cm[i], ax = axs[i-2])\n",
    "axs[1].set_ylabel('Frequency')\n",
    "axs[2].set_xlabel('Index')\n",
    "axs[0].set_title('ArcA Direct Repeats')\n",
    "\n",
    "\n",
    "plt.savefig('../data/Figure 3A(2).svg', bbox_inches='tight') "
   ]
  },
  {
   "cell_type": "markdown",
   "metadata": {},
   "source": [
    "# 2. Generate PSSMs for each DR motif"
   ]
  },
  {
   "cell_type": "code",
   "execution_count": 15,
   "metadata": {},
   "outputs": [],
   "source": [
    "PWM_DR = {}\n",
    "for k in cm.keys():\n",
    "    temp_pwm = []\n",
    "    temp_cm = cm[k]\n",
    "    for i in range(len(temp_cm['A']) ):\n",
    "        SUM = 4+ temp_cm['A'][i]+temp_cm['C'][i]+temp_cm['T'][i]+temp_cm['G'][i]\n",
    "\n",
    "        temp_pwm.append( {'A':log( (temp_cm['A'][i]+1)/SUM ),\n",
    "                      'C':log( (temp_cm['C'][i]+1)/SUM ),\n",
    "                      'G':log( (temp_cm['G'][i]+1)/SUM ),\n",
    "                      'T':log( (temp_cm['T'][i]+1)/SUM  )   })\n",
    "    PWM_DR[k] = temp_pwm\n",
    "\n",
    "PWM_DR[1] = M_DR"
   ]
  },
  {
   "cell_type": "code",
   "execution_count": 16,
   "metadata": {},
   "outputs": [],
   "source": [
    "no_signal = { 'A':log(0.25) , 'C':log(0.25) ,'G':log(0.25), 'T':log(0.25)}\n",
    "PWM_DR_avg = {}\n",
    "for k in PWM_DR.keys():\n",
    "    PWM_DR_avg[k] =  M_DR.copy()\n",
    "    for i in range( int(k-1)):\n",
    "        PWM_DR_avg[k].append( no_signal )\n",
    "        PWM_DR_avg[k] =  PWM_DR_avg[k] +  M_DR       "
   ]
  },
  {
   "cell_type": "code",
   "execution_count": 17,
   "metadata": {},
   "outputs": [],
   "source": [
    "from feature_functions import *\n",
    "N_UPSTREAM  = 150\n",
    "N_DOWNSTREAM = 30"
   ]
  },
  {
   "cell_type": "markdown",
   "metadata": {},
   "source": [
    "# 3.  Compute new feature matrix for ArcA DR motifs"
   ]
  },
  {
   "cell_type": "code",
   "execution_count": 18,
   "metadata": {},
   "outputs": [],
   "source": [
    "def match1DR( tss, strand , bitome_obj, N_UPSTREAM, N_DOWNSTREAM, M, DR_num, cutoff ):\n",
    "     # N is the number of DRs to match\n",
    "    if strand == 1:\n",
    "        \n",
    "        locs = np.arange(tss - N_UPSTREAM, tss + N_DOWNSTREAM + 1)\n",
    "        bp_to_tss = np.arange(-N_UPSTREAM, N_DOWNSTREAM + 1)\n",
    "        \n",
    "        # define the sequence feature location to extract the sequence around this TSS\n",
    "        seq_loc = FeatureLocation(\n",
    "            tss - N_UPSTREAM - 1,\n",
    "            tss + N_DOWNSTREAM,\n",
    "            strand\n",
    "        )\n",
    "        \n",
    "    else:\n",
    "\n",
    "        locs = np.arange(tss - N_DOWNSTREAM, tss + N_UPSTREAM + 1)\n",
    "        bp_to_tss = np.flip(np.arange(-N_UPSTREAM, N_DOWNSTREAM + 1))\n",
    "\n",
    "        # define the sequence feature location to extract the sequence around this TSS\n",
    "        seq_loc = FeatureLocation(\n",
    "            tss - N_DOWNSTREAM - 1,\n",
    "            tss + N_UPSTREAM,\n",
    "            strand\n",
    "        )\n",
    "    DR_scores = []\n",
    "    sequence = seq_loc.extract(bitome_obj.sequence)\n",
    "    for i in range(len(sequence) - len(M) + 1):\n",
    "        subbox = sequence[i:i+ len(M) ]\n",
    "        DR_scores.append( score_motif(subbox,M) )# store tuple( score,index )\n",
    "        \n",
    "    max_score =  max( DR_scores )\n",
    "    ind = DR_scores.index( max_score )\n",
    "    mid = ind + len(M)/2  \n",
    "    distTSS = abs(N_UPSTREAM - mid )\n",
    "    if mid < N_UPSTREAM:\n",
    "        up = 1\n",
    "    else:\n",
    "        up = 0\n",
    "    result = {}\n",
    "    result[str(DR_num)+'DR_score'] = max_score\n",
    "    result[str(DR_num)+'DR_distTSS'] = distTSS\n",
    "    result[str(DR_num)+'DR_upstream'] = up\n",
    "    result['seq'] = str(sequence)\n",
    "    \n",
    "    if max_score > cutoff[DR_num ]:\n",
    "        result[ str(DR_num)+'DR_abovecutoff' ] = 1\n",
    "    else:\n",
    "        result[ str(DR_num)+'DR_abovecutoff' ] = 0\n",
    "        \n",
    "    return result"
   ]
  },
  {
   "cell_type": "code",
   "execution_count": 20,
   "metadata": {},
   "outputs": [],
   "source": [
    "# # load regulons\n",
    "# pwm_db = rpwm('../data/motif_pwm_db.txt')\n",
    "\n",
    "# # <MODIFIED> Added manually constructed motif without alignment\n",
    "# tf_list =['AraC', 'ArcA', 'ArgP', 'ArgR', 'BaeR', 'BasR', 'CysB', 'CpxR', \n",
    "#           'Cra', 'CRP', 'Mlc', 'MqsA', 'EvgA', 'ExuR', 'FadR', 'IclR', 'IscR', \n",
    "#           'IHF', 'FhlA', 'FlhDC', 'FNR', 'Fur', 'GadE', 'GadW', 'GadX', 'GalR', 'GalS', \n",
    "#           'GcvA', 'GlpR', 'GlrR', 'GntR', 'TyrR', 'LexA', 'LeuO', 'Lrp', 'MalT', 'MetJ', 'Nac', \n",
    "#           'NagC', 'NanR', 'NarL', 'NarP', 'NrdR', 'NsrR', 'NtrC', 'OmpR', 'OxyR', 'PdhR', 'PhoB', 'PhoP',\n",
    "#           'PurR', 'PuuR', 'RcsAB', 'RhaS', 'RutR', 'SoxS', 'TrpR', 'XylR', 'YdeO'\n",
    "#          # [MODIFIED] Added ones\n",
    "#          ,'BtsR', 'Cbl', 'PyrR', 'IlvY', 'AllR', 'PlaR', 'Zur', 'ZntR', 'RbsR', 'PrpR', 'CueR', 'HprR', 'CusR', 'AtoC']\n",
    "\n",
    "# # [MODIFIED]: accounting for synonymous naming\n",
    "# regulon_genes={}\n",
    "# for TF in bitome.transcription_factors:\n",
    "#     #print(TF.name)\n",
    "#     # Only include the TF that is included in the tf_list, those are the tf that we have logodds and pwm data.\n",
    "#     if TF.name == 'YpdB':\n",
    "#         tfname = 'PyrR'\n",
    "#     elif TF.name == 'YehT':\n",
    "#         tfname = 'BtsR'\n",
    "#     elif TF.name == 'YiaJ':\n",
    "#         tfname = 'PlaR'\n",
    "#     elif TF.name == 'YedW':\n",
    "#         tfname = 'HprR'\n",
    "#     else:\n",
    "#         tfname = TF.name\n",
    "#     if tfname in tf_list:\n",
    "#         regulon_genes[tfname] = []   \n",
    "#         for r in TF.regulons:\n",
    "#                 for p in list(r.regulated_promoters.values())[0]:\n",
    "#                     if p.transcription_unit != None and len(p.transcription_unit.genes)>0:\n",
    "#                         for g in p.transcription_unit.genes:\n",
    "#                             regulon_genes[tfname].append( g.locus_tag)\n",
    "                            \n",
    "# # convert gene name and b number.\n",
    "# b_g = {}\n",
    "# for g in bitome.genes:\n",
    "#     b_g[ g.locus_tag ] = g.name"
   ]
  },
  {
   "cell_type": "code",
   "execution_count": 19,
   "metadata": {},
   "outputs": [],
   "source": [
    "# cutoff values for each DR\n",
    "cutoff = { 1: -8.4 ,2: -23.3628,3: -38.44,4:-52.94}"
   ]
  },
  {
   "cell_type": "code",
   "execution_count": 22,
   "metadata": {
    "scrolled": true
   },
   "outputs": [],
   "source": [
    "# [MODIFIED] \n",
    "# bitome.genebank_record = SeqIO.read('../bitome-kb/NC_000913.3.gb', 'gb')\n",
    "# bitome.sequence = SeqIO.read('../bitome-kb/NC_000913.3.gb', 'gb').seq\n",
    "# Set direct bitome sequence or this would cause Attribute: \"_data\" error\n",
    "# bitome.sequence"
   ]
  },
  {
   "cell_type": "code",
   "execution_count": 20,
   "metadata": {},
   "outputs": [],
   "source": [
    "ArcA_data = []\n",
    "for g in bitome.genes:\n",
    "    \n",
    "    if len(g.transcription_units) < 1:\n",
    "        continue\n",
    "        \n",
    "    for tu in g.transcription_units:\n",
    "        if tu.tss == None or int(tu.tss) < 200:\n",
    "            continue\n",
    "        data = {}\n",
    "        data = {}\n",
    "        data['ID'] = g.locus_tag\n",
    "        data['gene'] = g.name\n",
    "        data['TU'] = tu.name\n",
    "        data['strand'] = int(tu.location.strand)\n",
    "        for k in PWM_DR.keys():\n",
    "            data.update(match1DR(tu.tss,  int(tu.location.strand), bitome, N_UPSTREAM, N_DOWNSTREAM, PWM_DR[k], int(k), cutoff))\n",
    "        \n",
    "        ArcA_data.append(data)"
   ]
  },
  {
   "cell_type": "code",
   "execution_count": 21,
   "metadata": {},
   "outputs": [],
   "source": [
    "DR_table = pd.DataFrame( ArcA_data )"
   ]
  },
  {
   "cell_type": "code",
   "execution_count": 22,
   "metadata": {},
   "outputs": [],
   "source": [
    "DR1score = []\n",
    "DR2score = []\n",
    "DR3score = []\n",
    "DR4score = []\n",
    "for i in range(len( DR_table['gene'])):\n",
    "    if list(DR_table['ID'])[i] in regulon_genes['ArcA']:\n",
    "        DR1score.append( list( DR_table['1DR_score'])[i] )\n",
    "        DR2score.append( list( DR_table['2DR_score'])[i] )\n",
    "        DR3score.append( list( DR_table['3DR_score'])[i] )\n",
    "        DR4score.append( list( DR_table['4DR_score'])[i] )"
   ]
  },
  {
   "cell_type": "code",
   "execution_count": 23,
   "metadata": {},
   "outputs": [
    {
     "name": "stderr",
     "output_type": "stream",
     "text": [
      "findfont: Font family ['sans-serif'] not found. Falling back to DejaVu Sans.\n",
      "findfont: Generic family 'sans-serif' not found because none of the following families were found: Helvetica\n",
      "findfont: Font family ['sans-serif'] not found. Falling back to DejaVu Sans.\n",
      "findfont: Generic family 'sans-serif' not found because none of the following families were found: Helvetica\n"
     ]
    },
    {
     "data": {
      "image/png": "[encoded data removed]",
      "text/plain": [
       "<Figure size 2160x432 with 4 Axes>"
      ]
     },
     "metadata": {
      "needs_background": "light"
     },
     "output_type": "display_data"
    }
   ],
   "source": [
    "from scipy import stats\n",
    "import matplotlib.font_manager\n",
    "fig,axs = plt.subplots(1,4, figsize = (30,6))\n",
    "\n",
    "axs[0].hist(DR1score,density=True,bins=20, alpha=0.5,color ='orange')\n",
    "axs[0].hist(list( DR_table['1DR_score']),density=True,bins=20, alpha=0.5,color ='b')\n",
    "axs[0].axvline( x= sum(DR_table['1DR_score'])/len(DR_table['1DR_score']), color = 'r', ls = '--')\n",
    "axs[0].axvline( x= sum(DR1score)/len(DR1score), color = 'r', ls = '--')\n",
    "axs[0].set_ylabel('Hist_Density')\n",
    "\n",
    "axs[1].hist(DR2score,density=True, bins=20, alpha=0.5,color ='orange')\n",
    "axs[1].hist(list( DR_table['2DR_score']),density=True,bins=20, alpha=0.5,color ='b')\n",
    "axs[1].axvline( x= sum(DR_table['2DR_score'])/len(DR_table['2DR_score']), color = 'r', ls = '--')\n",
    "axs[1].axvline( x= sum(DR2score)/len(DR2score), color = 'r', ls = '--')\n",
    "\n",
    "axs[2].hist(DR3score,density=True, bins=20, alpha=0.5,color ='orange')\n",
    "axs[2].hist(list( DR_table['3DR_score']),density=True,bins=20, alpha=0.5,color ='b')\n",
    "axs[2].axvline( x= sum(DR_table['3DR_score'])/len(DR_table['3DR_score']), color = 'r', ls = '--')\n",
    "axs[2].axvline( x= sum(DR3score)/len(DR3score), color = 'r', ls = '--')\n",
    "\n",
    "axs[3].hist(DR4score,density=True,bins=20,  alpha=0.5,color ='orange',label = 'ArcA_Regulon')\n",
    "axs[3].hist(list( DR_table['4DR_score']),density=True, bins=20, alpha=0.5,color ='b',label = 'Random')\n",
    "axs[3].axvline( x= sum(DR_table['4DR_score'])/len(DR_table['4DR_score']), color = 'r', ls = '--')\n",
    "axs[3].axvline( x= sum(DR4score)/len(DR4score), color = 'r', ls = '--')\n",
    "axs[3].legend(loc='lower right', fontsize=15, bbox_to_anchor=(1.5, 0.5))\n",
    "\n",
    "for i in range(4):\n",
    "    axs[i].set_title(str(i+1)+'DR',fontsize = 20)"
   ]
  },
  {
   "cell_type": "markdown",
   "metadata": {},
   "source": [
    "# 4. ML"
   ]
  },
  {
   "cell_type": "code",
   "execution_count": 24,
   "metadata": {},
   "outputs": [],
   "source": [
    "temp_DR = DR_table.drop(['seq'],axis=1)"
   ]
  },
  {
   "cell_type": "code",
   "execution_count": 25,
   "metadata": {
    "scrolled": true
   },
   "outputs": [
    {
     "data": {
      "text/html": [
       "<div>\n",
       "<style scoped>\n",
       "    .dataframe tbody tr th:only-of-type {\n",
       "        vertical-align: middle;\n",
       "    }\n",
       "\n",
       "    .dataframe tbody tr th {\n",
       "        vertical-align: top;\n",
       "    }\n",
       "\n",
       "    .dataframe thead th {\n",
       "        text-align: right;\n",
       "    }\n",
       "</style>\n",
       "<table border=\"1\" class=\"dataframe\">\n",
       "  <thead>\n",
       "    <tr style=\"text-align: right;\">\n",
       "      <th></th>\n",
       "      <th>ID</th>\n",
       "      <th>strand</th>\n",
       "      <th>2DR_score</th>\n",
       "      <th>2DR_distTSS</th>\n",
       "      <th>2DR_upstream</th>\n",
       "      <th>2DR_abovecutoff</th>\n",
       "      <th>3DR_score</th>\n",
       "      <th>3DR_distTSS</th>\n",
       "      <th>3DR_upstream</th>\n",
       "      <th>3DR_abovecutoff</th>\n",
       "      <th>4DR_score</th>\n",
       "      <th>4DR_distTSS</th>\n",
       "      <th>4DR_upstream</th>\n",
       "      <th>4DR_abovecutoff</th>\n",
       "      <th>1DR_score</th>\n",
       "      <th>1DR_distTSS</th>\n",
       "      <th>1DR_upstream</th>\n",
       "      <th>1DR_abovecutoff</th>\n",
       "    </tr>\n",
       "  </thead>\n",
       "  <tbody>\n",
       "    <tr>\n",
       "      <th>0</th>\n",
       "      <td>b0008</td>\n",
       "      <td>1.0</td>\n",
       "      <td>-26.782829</td>\n",
       "      <td>135.5</td>\n",
       "      <td>1.0</td>\n",
       "      <td>0.0</td>\n",
       "      <td>-42.126282</td>\n",
       "      <td>130.0</td>\n",
       "      <td>1.0</td>\n",
       "      <td>0.0</td>\n",
       "      <td>-58.358297</td>\n",
       "      <td>124.5</td>\n",
       "      <td>1.0</td>\n",
       "      <td>0.0</td>\n",
       "      <td>-8.326755</td>\n",
       "      <td>111.0</td>\n",
       "      <td>1.0</td>\n",
       "      <td>1.0</td>\n",
       "    </tr>\n",
       "    <tr>\n",
       "      <th>1</th>\n",
       "      <td>b0025</td>\n",
       "      <td>1.0</td>\n",
       "      <td>-28.706138</td>\n",
       "      <td>12.5</td>\n",
       "      <td>0.0</td>\n",
       "      <td>0.0</td>\n",
       "      <td>-45.930994</td>\n",
       "      <td>66.0</td>\n",
       "      <td>1.0</td>\n",
       "      <td>0.0</td>\n",
       "      <td>-58.313623</td>\n",
       "      <td>60.5</td>\n",
       "      <td>1.0</td>\n",
       "      <td>0.0</td>\n",
       "      <td>-10.507677</td>\n",
       "      <td>144.0</td>\n",
       "      <td>1.0</td>\n",
       "      <td>0.0</td>\n",
       "    </tr>\n",
       "    <tr>\n",
       "      <th>2</th>\n",
       "      <td>b0034</td>\n",
       "      <td>1.0</td>\n",
       "      <td>-26.100094</td>\n",
       "      <td>6.5</td>\n",
       "      <td>0.0</td>\n",
       "      <td>0.0</td>\n",
       "      <td>-39.136347</td>\n",
       "      <td>12.0</td>\n",
       "      <td>0.0</td>\n",
       "      <td>0.0</td>\n",
       "      <td>-54.037956</td>\n",
       "      <td>79.5</td>\n",
       "      <td>1.0</td>\n",
       "      <td>0.0</td>\n",
       "      <td>-8.097136</td>\n",
       "      <td>26.0</td>\n",
       "      <td>0.0</td>\n",
       "      <td>1.0</td>\n",
       "    </tr>\n",
       "    <tr>\n",
       "      <th>3</th>\n",
       "      <td>b0035</td>\n",
       "      <td>-1.0</td>\n",
       "      <td>-24.149415</td>\n",
       "      <td>89.5</td>\n",
       "      <td>1.0</td>\n",
       "      <td>0.0</td>\n",
       "      <td>-38.932659</td>\n",
       "      <td>133.0</td>\n",
       "      <td>1.0</td>\n",
       "      <td>0.0</td>\n",
       "      <td>-56.369400</td>\n",
       "      <td>127.5</td>\n",
       "      <td>1.0</td>\n",
       "      <td>0.0</td>\n",
       "      <td>-7.250062</td>\n",
       "      <td>133.0</td>\n",
       "      <td>1.0</td>\n",
       "      <td>1.0</td>\n",
       "    </tr>\n",
       "    <tr>\n",
       "      <th>4</th>\n",
       "      <td>b0036</td>\n",
       "      <td>-1.0</td>\n",
       "      <td>-24.149415</td>\n",
       "      <td>89.5</td>\n",
       "      <td>1.0</td>\n",
       "      <td>0.0</td>\n",
       "      <td>-38.932659</td>\n",
       "      <td>133.0</td>\n",
       "      <td>1.0</td>\n",
       "      <td>0.0</td>\n",
       "      <td>-56.369400</td>\n",
       "      <td>127.5</td>\n",
       "      <td>1.0</td>\n",
       "      <td>0.0</td>\n",
       "      <td>-7.250062</td>\n",
       "      <td>133.0</td>\n",
       "      <td>1.0</td>\n",
       "      <td>1.0</td>\n",
       "    </tr>\n",
       "  </tbody>\n",
       "</table>\n",
       "</div>"
      ],
      "text/plain": [
       "      ID  strand  2DR_score  2DR_distTSS  2DR_upstream  2DR_abovecutoff  \\\n",
       "0  b0008     1.0 -26.782829        135.5           1.0              0.0   \n",
       "1  b0025     1.0 -28.706138         12.5           0.0              0.0   \n",
       "2  b0034     1.0 -26.100094          6.5           0.0              0.0   \n",
       "3  b0035    -1.0 -24.149415         89.5           1.0              0.0   \n",
       "4  b0036    -1.0 -24.149415         89.5           1.0              0.0   \n",
       "\n",
       "   3DR_score  3DR_distTSS  3DR_upstream  3DR_abovecutoff  4DR_score  \\\n",
       "0 -42.126282        130.0           1.0              0.0 -58.358297   \n",
       "1 -45.930994         66.0           1.0              0.0 -58.313623   \n",
       "2 -39.136347         12.0           0.0              0.0 -54.037956   \n",
       "3 -38.932659        133.0           1.0              0.0 -56.369400   \n",
       "4 -38.932659        133.0           1.0              0.0 -56.369400   \n",
       "\n",
       "   4DR_distTSS  4DR_upstream  4DR_abovecutoff  1DR_score  1DR_distTSS  \\\n",
       "0        124.5           1.0              0.0  -8.326755        111.0   \n",
       "1         60.5           1.0              0.0 -10.507677        144.0   \n",
       "2         79.5           1.0              0.0  -8.097136         26.0   \n",
       "3        127.5           1.0              0.0  -7.250062        133.0   \n",
       "4        127.5           1.0              0.0  -7.250062        133.0   \n",
       "\n",
       "   1DR_upstream  1DR_abovecutoff  \n",
       "0           1.0              1.0  \n",
       "1           1.0              0.0  \n",
       "2           0.0              1.0  \n",
       "3           1.0              1.0  \n",
       "4           1.0              1.0  "
      ]
     },
     "execution_count": 25,
     "metadata": {},
     "output_type": "execute_result"
    }
   ],
   "source": [
    "unique_ids = np.unique(list(temp_DR['ID']))\n",
    "\n",
    "multiple_ids = {}\n",
    "for n in unique_ids:\n",
    "    if list(temp_DR['ID']).count(n) > 1:\n",
    "        multiple_ids[n] = list(temp_DR['ID']).count(n)\n",
    "\n",
    "remove_list = []\n",
    "length = len(temp_DR['ID'])\n",
    "for i in range(length):\n",
    "    if temp_DR.iloc[i,0] in multiple_ids.keys():\n",
    "        remove_list.append(i)\n",
    "\n",
    "single_DR = temp_DR.drop(remove_list)\n",
    "single_DR = single_DR.reset_index()\n",
    "single_DR = single_DR.drop(columns=['index'])\n",
    "single_DR= single_DR[['ID']+list(single_DR.columns)[3:]]\n",
    "\n",
    "featureList = list(single_DR.columns)[1:]\n",
    "multi = {}\n",
    "for g in multiple_ids.keys():\n",
    "    multi[g] = {}\n",
    "    multi[g]['ID'] = str(g)\n",
    "    for f in featureList:\n",
    "        multi[g][f] = 0\n",
    "        \n",
    "for i in range(len(temp_DR['ID']) ):\n",
    "    if temp_DR['ID'][i] in multiple_ids.keys():\n",
    "        for f in featureList:\n",
    "            multi[ str(temp_DR['ID'][i]) ][f] += float(temp_DR[f][i]/multiple_ids[str(temp_DR['ID'][i])])\n",
    "            \n",
    "multi_table = []\n",
    "for k in multi.keys():\n",
    "    multi_table.append(multi[k])\n",
    "multi_pd = pd.DataFrame(multi_table)\n",
    "\n",
    "avg_DR = single_DR.append(multi_pd)\n",
    "avg_DR=avg_DR.reset_index()\n",
    "avg_DR=avg_DR.drop(columns=['index'])\n",
    "avg_DR.head()"
   ]
  },
  {
   "cell_type": "code",
   "execution_count": 26,
   "metadata": {},
   "outputs": [],
   "source": [
    "X_DR = avg_DR.iloc[:,1:].values\n",
    "X_DR = StandardScaler().fit_transform(X_DR)\n",
    "ID = list(avg_DR['ID'])\n",
    "# generate labels, classify im membership\n",
    "target_labels={}\n",
    "for r in IM_genes.keys():\n",
    "    target_labels[r] = []\n",
    "    for i in range( len(ID) ):\n",
    "        if ID[i] in IM_genes[r]:\n",
    "            target_labels[r].append( 1 )\n",
    "        else:\n",
    "            target_labels[r].append( 0 )\n",
    "            \n",
    "ArcA_reg_lab = []\n",
    "for i in range( len(ID) ):\n",
    "    if ID[i] in regulon_genes['ArcA']:\n",
    "        ArcA_reg_lab.append( 1 )\n",
    "    else:\n",
    "        ArcA_reg_lab.append( 0 )"
   ]
  },
  {
   "cell_type": "code",
   "execution_count": 30,
   "metadata": {},
   "outputs": [],
   "source": [
    "# # Modified [Not Use]\n",
    "# #generate target_labels for ArcA_combined\n",
    "\n",
    "# ArcA_combined_labels=[]\n",
    "# for i in range( len(ID) ):\n",
    "#     if ID[i] in ArcA_combined:\n",
    "#         ArcA_combined_labels.append( 1 )\n",
    "#     else:\n",
    "#         ArcA_combined_labels.append( 0 )"
   ]
  },
  {
   "cell_type": "code",
   "execution_count": 27,
   "metadata": {},
   "outputs": [],
   "source": [
    "# Modified\n",
    "y_to_try = {\n",
    "#     'ArcA':target_labels['ArcA'],\n",
    "    'ArcA-1':target_labels['ArcA-1'],\n",
    "    'ArcA-2':target_labels['ArcA-2'],\n",
    "#     'ArcA_combined':ArcA_combined_labels,\n",
    "    'ArcA_regulon':ArcA_reg_lab\n",
    "}\n",
    "models_to_try = {\n",
    "    'LR': LogisticRegression(\n",
    "#         penalty='l1',\n",
    "        penalty = 'elasticnet',\n",
    "        l1_ratio = 0.5,\n",
    "        solver='saga',\n",
    "        class_weight='balanced',\n",
    "        random_state=42\n",
    "    ),\n",
    "    'SVM': LinearSVC(\n",
    "        penalty='l1',\n",
    "        class_weight='balanced',\n",
    "        dual=False,\n",
    "        random_state=42,\n",
    "        verbose=1\n",
    "    ),\n",
    "    'RF': RandomForestClassifier(\n",
    "        class_weight='balanced',\n",
    "        random_state=42,\n",
    "        verbose=1\n",
    "    )\n",
    "}"
   ]
  },
  {
   "cell_type": "code",
   "execution_count": 28,
   "metadata": {},
   "outputs": [],
   "source": [
    "# Modified\n",
    "import pickle\n",
    "with open('../data/promoters_grouping_IM.pkl', 'rb') as f:\n",
    "    IM_promoters = pickle.load(f)\n",
    "with open('../data/promoters_grouping_All.pkl', 'rb') as f:\n",
    "    All_promoters = pickle.load(f)"
   ]
  },
  {
   "cell_type": "code",
   "execution_count": null,
   "metadata": {},
   "outputs": [],
   "source": [
    "# # use promoter space LOO instead of 5-fold cv\n",
    "\n",
    "# result_df = pd.DataFrame(\n",
    "#     columns=['model', 'im', 'train_auc', 'test_auc']\n",
    "# )\n",
    "\n",
    "# N_CV = 5\n",
    "\n",
    "# for model_name, model in models_to_try.items():\n",
    "#     print(f'{model_name}')\n",
    "    \n",
    "#     for y_name, y_labels in y_to_try.items():\n",
    "#         print(f'{model_name}: {y_name}')\n",
    "        \n",
    "#         cv_result = cross_validate(\n",
    "#             model,\n",
    "#             X_DR,\n",
    "#             y= y_labels,\n",
    "#             cv=N_CV,\n",
    "#             scoring='roc_auc',\n",
    "#             return_train_score=True,\n",
    "#             verbose=1,\n",
    "#             n_jobs=4\n",
    "#         )\n",
    "\n",
    "#         sub_result_df = pd.DataFrame(\n",
    "#             data={\n",
    "#                 'model': [model_name] * N_CV,\n",
    "#                 'im': [y_name] * N_CV,\n",
    "#                 'train_auc': cv_result['train_score'],\n",
    "#                 'test_auc': cv_result['test_score']\n",
    "#             }\n",
    "#         )\n",
    "\n",
    "#         result_df = result_df.append(sub_result_df)"
   ]
  },
  {
   "cell_type": "code",
   "execution_count": null,
   "metadata": {},
   "outputs": [],
   "source": [
    "# # [Not Use]\n",
    "# _, ax = plt.subplots()\n",
    "# sns.boxplot(x='model', y='test_auc', data=result_df, hue='im', dodge=True, ax=ax)\n",
    "# plt.legend(loc='right', bbox_to_anchor=(1.5, 0.5))\n",
    "# plt.axhline(y= 0.5, color = 'r', ls = '--')\n",
    "# plt.axhline(y= 0.8, color = 'purple', ls = '--')"
   ]
  },
  {
   "cell_type": "markdown",
   "metadata": {},
   "source": [
    "# Hyperparameters Optimization (SKIP due to overfitting)"
   ]
  },
  {
   "cell_type": "code",
   "execution_count": null,
   "metadata": {},
   "outputs": [],
   "source": [
    "# [Not Use]\n",
    "# hyperopt_models = {\n",
    "#     'LR': {\n",
    "#         'model': LogisticRegression(\n",
    "#             solver='liblinear',\n",
    "#             class_weight='balanced',\n",
    "#             verbose=1\n",
    "#         ),\n",
    "#         'param_dists': {\n",
    "#             'penalty': ['l1', 'l2'],\n",
    "#             'C': np.logspace(-1,2,15),\n",
    "#             'max_iter':np.array([1000])\n",
    "#         }\n",
    "#     }\n",
    "# }"
   ]
  },
  {
   "cell_type": "code",
   "execution_count": null,
   "metadata": {},
   "outputs": [],
   "source": [
    "# [Not Use]\n",
    "# hyperopt_LR = {}\n",
    "\n",
    "# for y_name, y_labels in y_to_try.items():\n",
    "#     print(y_name)\n",
    "\n",
    "#     random_search_hyperopt = RandomizedSearchCV(\n",
    "#         hyperopt_models['LR']['model'],\n",
    "#         hyperopt_models['LR']['param_dists'],\n",
    "#         n_iter=25,\n",
    "#         scoring='roc_auc',\n",
    "#         n_jobs=4,\n",
    "#         cv=5,\n",
    "#         verbose=1,\n",
    "#         return_train_score=True\n",
    "#     )\n",
    "\n",
    "#     random_search_hyperopt.fit(X_DR,y_labels )\n",
    "    \n",
    "#     hyperopt_results_df = pd.DataFrame(random_search_hyperopt.cv_results_).sort_values(\n",
    "#         by='mean_test_score',\n",
    "#         ascending=False\n",
    "#     )\n",
    "#     hyperopt_LR[y_name] = hyperopt_results_df"
   ]
  },
  {
   "cell_type": "code",
   "execution_count": null,
   "metadata": {},
   "outputs": [],
   "source": [
    "# [Not Use]\n",
    "# # combine all the hyperopt results into a DF\n",
    "# dfs_with_ims = []\n",
    "# for y_name, hyperopt_df in hyperopt_LR.items():\n",
    "#     hyperopt_df['im'] = [y_name] * hyperopt_df.shape[0]\n",
    "#     dfs_with_ims.append(hyperopt_df)\n",
    "    \n",
    "# hyperopt_LR_df = pd.concat(dfs_with_ims, axis=0, ignore_index=True)"
   ]
  },
  {
   "cell_type": "code",
   "execution_count": null,
   "metadata": {},
   "outputs": [],
   "source": [
    "# [Not Use]\n",
    "# hyperopt_LR_df.to_csv('../data/ArcA_DR_LRopt.csv')"
   ]
  },
  {
   "cell_type": "code",
   "execution_count": null,
   "metadata": {},
   "outputs": [],
   "source": [
    "# [Not Use]\n",
    "# fig = plt.figure(figsize=(3,4))\n",
    "# sns.swarmplot(x='im', y='mean_test_score', data=hyperopt_LR_df)\n",
    "# plt.axhline(y= 0.5, color = 'r', ls = '--')\n",
    "# plt.axhline(y= 0.8, color = 'purple', ls = '--')"
   ]
  },
  {
   "cell_type": "code",
   "execution_count": null,
   "metadata": {},
   "outputs": [],
   "source": [
    "# Not Use\n",
    "\n",
    "# hyperopt_LR_old = {}\n",
    "\n",
    "# for y_name, y_labels in y_to_try.items():\n",
    "#     print(y_name)\n",
    "\n",
    "#     random_search_hyperopt = RandomizedSearchCV(\n",
    "#         hyperopt_models['LR']['model'],\n",
    "#         hyperopt_models['LR']['param_dists'],\n",
    "#         n_iter=25,\n",
    "#         scoring='roc_auc',\n",
    "#         n_jobs=4,\n",
    "#         cv=5,\n",
    "#         verbose=1,\n",
    "#         return_train_score=True\n",
    "#     )\n",
    "\n",
    "#     random_search_hyperopt.fit(X,y_labels )\n",
    "    \n",
    "#     hyperopt_results_df = pd.DataFrame(random_search_hyperopt.cv_results_).sort_values(\n",
    "#         by='mean_test_score',\n",
    "#         ascending=False\n",
    "#     )\n",
    "#     hyperopt_LR_old[y_name] = hyperopt_results_df\n",
    "\n",
    "# # combine all the hyperopt results into a DF\n",
    "# dfs_with_ims = []\n",
    "# for y_name, hyperopt_df in hyperopt_LR_old.items():\n",
    "#     hyperopt_df['im'] = [y_name] * hyperopt_df.shape[0]\n",
    "#     dfs_with_ims.append(hyperopt_df)\n",
    "    \n",
    "# hyperopt_LR_old_df = pd.concat(dfs_with_ims, axis=0, ignore_index=True)"
   ]
  },
  {
   "cell_type": "code",
   "execution_count": null,
   "metadata": {},
   "outputs": [],
   "source": [
    "# [Not Use]\n",
    "# fig,axs = plt.subplots(1,2,figsize=(6,4))\n",
    "# axs[0]=sns.boxplot(x='im', y='mean_test_score', data=hyperopt_LR_df,ax=axs[0])\n",
    "# axs[0].axhline(y= 0.5, color = 'r', ls = '--')\n",
    "# axs[0].axhline(y= 0.8, color = 'purple', ls = '--')\n",
    "# axs[0].set_title('LR_DR_motif')\n",
    "\n",
    "# axs[1]=sns.boxplot(x='im', y='mean_test_score', data=hyperopt_LR_old_df,ax=axs[1])\n",
    "# axs[1].axhline(y= 0.5, color = 'r', ls = '--')\n",
    "# axs[1].axhline(y= 0.8, color = 'purple', ls = '--')\n",
    "# axs[1].set_title('LR_ChIP_motif')\n",
    "# for ax in axs:\n",
    "#     ax.set_yticks(np.arange(0.4,1,0.05))\n",
    "#     ax.set_xticks( np.array( [0,1]) )\n",
    "# fig.tight_layout(pad=1.0)\n"
   ]
  },
  {
   "cell_type": "code",
   "execution_count": 29,
   "metadata": {},
   "outputs": [],
   "source": [
    "to_try = {}\n",
    "to_try['ArcA-1'] = target_labels['ArcA-1']\n",
    "to_try['ArcA-2'] = target_labels['ArcA-2']"
   ]
  },
  {
   "cell_type": "code",
   "execution_count": 30,
   "metadata": {},
   "outputs": [],
   "source": [
    "def resample_5v(oversampler, features_table, num_neighbors=5, SMOTE_only = True, exact_repeats_boost=0.1,\n",
    "                target_labels=target_labels, reduced_ratio=1, N_CV=5\n",
    "                ):\n",
    "    '''\n",
    "    oversampler: selected oversampling method from imblearn\n",
    "    undersampler: selected undersamplig method from imblearn\n",
    "    num_neighbor: Number of k-nearest neighbor used to perform SMOTE oversampling\n",
    "    reduced_ratio: If undersample=True, the ratio of the n_negative_aftersampling to n_negative_beforesampling. Should be \n",
    "    set to 1 if undersampling=False\n",
    "    \n",
    "    '''\n",
    "    \n",
    "    result_df = pd.DataFrame(\n",
    "        columns=['model', 'im', 'train_auc', 'test_auc']\n",
    "    )\n",
    "\n",
    "    for model_name, model in models_to_try.items():\n",
    "\n",
    "        for IM_name, y_labels in to_try.items():\n",
    "\n",
    "            # skip the promoters that are too small\n",
    "            if len(IM_promoters[IM_name])<N_CV:\n",
    "                continue\n",
    "            \n",
    "            #index_num = 0\n",
    "            print(f'{model_name}: {IM_name}')\n",
    "\n",
    "            temp_eng_features = features_table.copy()\n",
    "            temp_eng_features['label'] = y_labels        \n",
    "\n",
    "            ingroup_set = IM_promoters[IM_name]\n",
    "            outgroup_set = [l for l in All_promoters if not any(item in l for item in sum(IM_promoters[IM_name], [])) ]\n",
    "            \n",
    "#             random.Random(4).shuffle(outgroup_set) \n",
    "#             leave_one_out_set = ingroup_set + outgroup_set[:len(ingroup_set)]\n",
    "#             pure_training_set = outgroup_set[len(ingroup_set):]\n",
    "\n",
    "            # only include unique samples in pure training set\n",
    "#             pure_training_set = [l[0] for l in pure_training_set]\n",
    "\n",
    "            kf = KFold(n_splits=N_CV)\n",
    "\n",
    "            train_scores = []\n",
    "            test_scores = []\n",
    "            \n",
    "            for (out_index, in_index) in zip(kf.split(outgroup_set), kf.split(ingroup_set)):\n",
    "\n",
    "                # using sum here to flatten the list in list \n",
    "                \n",
    "                test_promoters_out = sum([outgroup_set[i] for i in out_index[1]], [])          \n",
    "                train_promoters_out = sum([outgroup_set[i] for i in out_index[0]], [])\n",
    "                \n",
    "                test_promoters_in = sum([ingroup_set[i] for i in in_index[1]], [])          \n",
    "                train_promoters_in = sum([ingroup_set[i] for i in in_index[0]], [])\n",
    "                \n",
    "                test_promoters = test_promoters_out + test_promoters_in\n",
    "                train_promoters = train_promoters_out + train_promoters_in\n",
    "                \n",
    "                train_X = temp_eng_features.loc[train_promoters].iloc[:, :-1]\n",
    "                test_X = temp_eng_features.loc[test_promoters].iloc[:, :-1]\n",
    "\n",
    "                train_Y = temp_eng_features.loc[train_promoters, 'label']\n",
    "                test_Y = temp_eng_features.loc[test_promoters, 'label']\n",
    "            \n",
    "            \n",
    "                if SMOTE_only == True:\n",
    "                    # Only use RandomOverSampling to boost the samples number over num_neighbors+1\n",
    "                    if len([l for l in train_Y if l==1])<=num_neighbors:\n",
    "                        \n",
    "                        exact_repeats_boost = (num_neighbors+1)/len([l for l in train_Y if l==0])                \n",
    "                        rs = RandomOverSampler(sampling_strategy = exact_repeats_boost)\n",
    "                        train_X, train_Y = rs.fit_sample(train_X, train_Y)\n",
    "                    \n",
    "                else:\n",
    "                    # Use RandomOverSampling to boost the positive samples number to a certain pos/neg ratio.\n",
    "                    rs = RandomOverSampler(sampling_strategy = exact_repeats_boost)\n",
    "                    train_X, train_Y = rs.fit_sample(train_X, train_Y)\n",
    "                \n",
    "                \n",
    "                if exact_repeats_boost != 1:\n",
    "                    # Oversampling by SMOTE\n",
    "                    if oversampler == SMOTETomek:\n",
    "                        over = oversampler(sampling_strategy = reduced_ratio, smote = SMOTE(k_neighbors = num_neighbors))\n",
    "#                         train_X, train_Y = over.fit_sample(train_X, train_Y)\n",
    "                        train_X, train_Y = over.fit_resample(train_X, train_Y)\n",
    "                        \n",
    "                    else:\n",
    "                        over = oversampler(sampling_strategy = reduced_ratio, k_neighbors = num_neighbors)\n",
    "#                         train_X, train_Y = over.fit_sample(train_X, train_Y)\n",
    "                        train_X, train_Y = over.fit_resample(train_X, train_Y)\n",
    "                    \n",
    "\n",
    "#                 # undersampling by ClusterCentroids\n",
    "#                 # undersample negative samples until the number of two classes are the same\n",
    "                \n",
    "#                 if undersampler!= None and reduced_ratio!=1:\n",
    "#                     under = undersampler(sampling_strategy = 'majority') \n",
    "#                     train_X, train_Y = under.fit_sample(train_X, train_Y)      \n",
    "                \n",
    "                #print('size of training set', train_X.shape[0]) \n",
    "                \n",
    "                model.fit(train_X, train_Y)\n",
    "\n",
    "                if model_name == 'SVM':\n",
    "                    train_auc = roc_auc_score(train_Y, model.decision_function(train_X))\n",
    "                    test_auc = roc_auc_score(test_Y, model.decision_function(test_X))\n",
    "\n",
    "                else:\n",
    "                    train_auc = roc_auc_score(train_Y, model.predict_proba(train_X)[:,1])\n",
    "                    test_auc = roc_auc_score(test_Y, model.predict_proba(test_X)[:,1])\n",
    "\n",
    "                train_scores.append(train_auc)\n",
    "                test_scores.append(test_auc)\n",
    "                \n",
    "                \n",
    "            sub_result_df = pd.DataFrame(\n",
    "            data={\n",
    "                'model': [model_name] * N_CV,\n",
    "                'im': [IM_name] * N_CV,\n",
    "                'train_auc': train_scores,\n",
    "                'test_auc': test_scores\n",
    "            }\n",
    "\n",
    "            )\n",
    "            \n",
    "            # PCA evaluation of resampling\n",
    "#             pca = PCA(2)\n",
    "#             pca_data = pd.DataFrame(pca.fit_transform(train_X),columns=['PC1','PC2']) \n",
    "#             pca_data['label'] = train_Y\n",
    "#             sns.scatterplot(x=\"PC1\",y=\"PC2\",hue=\"label\", data=pca_data)\n",
    "#             plt.title('After resampling for '+ IM_name)\n",
    "#             plt.show()  \n",
    "\n",
    "            #index_num += 1\n",
    "            result_df = result_df.append(sub_result_df)\n",
    "\n",
    "    return result_df"
   ]
  },
  {
   "cell_type": "code",
   "execution_count": 31,
   "metadata": {},
   "outputs": [],
   "source": [
    "#Modified\n",
    "X_DR_df = pd.DataFrame(X_DR, index = avg_DR['ID'], columns=avg_DR.columns[1:])\n",
    "eng_features_stdd = pd.read_csv('../data/eng_features_stdd_table.csv')\n",
    "motif_only_df = pd.read_csv('../data/motif_only_table.csv', index_col=0)\n",
    "eng_features_stdd.set_index(eng_features_stdd['ID'], drop=True, inplace = True)\n",
    "eng_features_stdd = eng_features_stdd.drop(columns = ['ID'])\n",
    "\n",
    "X_DR_new = pd.concat([eng_features_stdd, X_DR_df.set_index(eng_features_stdd.index)], axis=1)"
   ]
  },
  {
   "cell_type": "code",
   "execution_count": 32,
   "metadata": {
    "scrolled": true
   },
   "outputs": [
    {
     "name": "stdout",
     "output_type": "stream",
     "text": [
      "LR: ArcA-1\n"
     ]
    },
    {
     "name": "stderr",
     "output_type": "stream",
     "text": [
      "The max_iter was reached which means the coef_ did not converge\n",
      "The max_iter was reached which means the coef_ did not converge\n",
      "The max_iter was reached which means the coef_ did not converge\n",
      "The max_iter was reached which means the coef_ did not converge\n",
      "The max_iter was reached which means the coef_ did not converge\n"
     ]
    },
    {
     "name": "stdout",
     "output_type": "stream",
     "text": [
      "LR: ArcA-2\n"
     ]
    },
    {
     "name": "stderr",
     "output_type": "stream",
     "text": [
      "The max_iter was reached which means the coef_ did not converge\n",
      "The max_iter was reached which means the coef_ did not converge\n",
      "The max_iter was reached which means the coef_ did not converge\n",
      "The max_iter was reached which means the coef_ did not converge\n",
      "The max_iter was reached which means the coef_ did not converge\n"
     ]
    },
    {
     "name": "stdout",
     "output_type": "stream",
     "text": [
      "SVM: ArcA-1\n",
      "[LibLinear]"
     ]
    },
    {
     "name": "stderr",
     "output_type": "stream",
     "text": [
      "Liblinear failed to converge, increase the number of iterations.\n"
     ]
    },
    {
     "name": "stdout",
     "output_type": "stream",
     "text": [
      "[LibLinear]"
     ]
    },
    {
     "name": "stderr",
     "output_type": "stream",
     "text": [
      "Liblinear failed to converge, increase the number of iterations.\n"
     ]
    },
    {
     "name": "stdout",
     "output_type": "stream",
     "text": [
      "[LibLinear]"
     ]
    },
    {
     "name": "stderr",
     "output_type": "stream",
     "text": [
      "Liblinear failed to converge, increase the number of iterations.\n"
     ]
    },
    {
     "name": "stdout",
     "output_type": "stream",
     "text": [
      "[LibLinear]"
     ]
    },
    {
     "name": "stderr",
     "output_type": "stream",
     "text": [
      "Liblinear failed to converge, increase the number of iterations.\n"
     ]
    },
    {
     "name": "stdout",
     "output_type": "stream",
     "text": [
      "[LibLinear]"
     ]
    },
    {
     "name": "stderr",
     "output_type": "stream",
     "text": [
      "Liblinear failed to converge, increase the number of iterations.\n"
     ]
    },
    {
     "name": "stdout",
     "output_type": "stream",
     "text": [
      "SVM: ArcA-2\n",
      "[LibLinear]"
     ]
    },
    {
     "name": "stderr",
     "output_type": "stream",
     "text": [
      "Liblinear failed to converge, increase the number of iterations.\n"
     ]
    },
    {
     "name": "stdout",
     "output_type": "stream",
     "text": [
      "[LibLinear]"
     ]
    },
    {
     "name": "stderr",
     "output_type": "stream",
     "text": [
      "Liblinear failed to converge, increase the number of iterations.\n"
     ]
    },
    {
     "name": "stdout",
     "output_type": "stream",
     "text": [
      "[LibLinear]"
     ]
    },
    {
     "name": "stderr",
     "output_type": "stream",
     "text": [
      "Liblinear failed to converge, increase the number of iterations.\n"
     ]
    },
    {
     "name": "stdout",
     "output_type": "stream",
     "text": [
      "[LibLinear]"
     ]
    },
    {
     "name": "stderr",
     "output_type": "stream",
     "text": [
      "Liblinear failed to converge, increase the number of iterations.\n"
     ]
    },
    {
     "name": "stdout",
     "output_type": "stream",
     "text": [
      "[LibLinear]"
     ]
    },
    {
     "name": "stderr",
     "output_type": "stream",
     "text": [
      "Liblinear failed to converge, increase the number of iterations.\n"
     ]
    },
    {
     "name": "stdout",
     "output_type": "stream",
     "text": [
      "RF: ArcA-1\n"
     ]
    },
    {
     "name": "stderr",
     "output_type": "stream",
     "text": [
      "[Parallel(n_jobs=1)]: Using backend SequentialBackend with 1 concurrent workers.\n",
      "[Parallel(n_jobs=1)]: Done 100 out of 100 | elapsed:    1.9s finished\n",
      "[Parallel(n_jobs=1)]: Using backend SequentialBackend with 1 concurrent workers.\n",
      "[Parallel(n_jobs=1)]: Done 100 out of 100 | elapsed:    0.0s finished\n",
      "[Parallel(n_jobs=1)]: Using backend SequentialBackend with 1 concurrent workers.\n",
      "[Parallel(n_jobs=1)]: Done 100 out of 100 | elapsed:    0.0s finished\n",
      "[Parallel(n_jobs=1)]: Using backend SequentialBackend with 1 concurrent workers.\n",
      "[Parallel(n_jobs=1)]: Done 100 out of 100 | elapsed:    2.1s finished\n",
      "[Parallel(n_jobs=1)]: Using backend SequentialBackend with 1 concurrent workers.\n",
      "[Parallel(n_jobs=1)]: Done 100 out of 100 | elapsed:    0.0s finished\n",
      "[Parallel(n_jobs=1)]: Using backend SequentialBackend with 1 concurrent workers.\n",
      "[Parallel(n_jobs=1)]: Done 100 out of 100 | elapsed:    0.0s finished\n",
      "[Parallel(n_jobs=1)]: Using backend SequentialBackend with 1 concurrent workers.\n",
      "[Parallel(n_jobs=1)]: Done 100 out of 100 | elapsed:    1.8s finished\n",
      "[Parallel(n_jobs=1)]: Using backend SequentialBackend with 1 concurrent workers.\n",
      "[Parallel(n_jobs=1)]: Done 100 out of 100 | elapsed:    0.0s finished\n",
      "[Parallel(n_jobs=1)]: Using backend SequentialBackend with 1 concurrent workers.\n",
      "[Parallel(n_jobs=1)]: Done 100 out of 100 | elapsed:    0.0s finished\n",
      "[Parallel(n_jobs=1)]: Using backend SequentialBackend with 1 concurrent workers.\n",
      "[Parallel(n_jobs=1)]: Done 100 out of 100 | elapsed:    1.8s finished\n",
      "[Parallel(n_jobs=1)]: Using backend SequentialBackend with 1 concurrent workers.\n",
      "[Parallel(n_jobs=1)]: Done 100 out of 100 | elapsed:    0.0s finished\n",
      "[Parallel(n_jobs=1)]: Using backend SequentialBackend with 1 concurrent workers.\n",
      "[Parallel(n_jobs=1)]: Done 100 out of 100 | elapsed:    0.0s finished\n",
      "[Parallel(n_jobs=1)]: Using backend SequentialBackend with 1 concurrent workers.\n",
      "[Parallel(n_jobs=1)]: Done 100 out of 100 | elapsed:    1.7s finished\n",
      "[Parallel(n_jobs=1)]: Using backend SequentialBackend with 1 concurrent workers.\n",
      "[Parallel(n_jobs=1)]: Done 100 out of 100 | elapsed:    0.0s finished\n",
      "[Parallel(n_jobs=1)]: Using backend SequentialBackend with 1 concurrent workers.\n",
      "[Parallel(n_jobs=1)]: Done 100 out of 100 | elapsed:    0.0s finished\n"
     ]
    },
    {
     "name": "stdout",
     "output_type": "stream",
     "text": [
      "RF: ArcA-2\n"
     ]
    },
    {
     "name": "stderr",
     "output_type": "stream",
     "text": [
      "[Parallel(n_jobs=1)]: Using backend SequentialBackend with 1 concurrent workers.\n",
      "[Parallel(n_jobs=1)]: Done 100 out of 100 | elapsed:    0.9s finished\n",
      "[Parallel(n_jobs=1)]: Using backend SequentialBackend with 1 concurrent workers.\n",
      "[Parallel(n_jobs=1)]: Done 100 out of 100 | elapsed:    0.0s finished\n",
      "[Parallel(n_jobs=1)]: Using backend SequentialBackend with 1 concurrent workers.\n",
      "[Parallel(n_jobs=1)]: Done 100 out of 100 | elapsed:    0.0s finished\n",
      "[Parallel(n_jobs=1)]: Using backend SequentialBackend with 1 concurrent workers.\n",
      "[Parallel(n_jobs=1)]: Done 100 out of 100 | elapsed:    1.1s finished\n",
      "[Parallel(n_jobs=1)]: Using backend SequentialBackend with 1 concurrent workers.\n",
      "[Parallel(n_jobs=1)]: Done 100 out of 100 | elapsed:    0.0s finished\n",
      "[Parallel(n_jobs=1)]: Using backend SequentialBackend with 1 concurrent workers.\n",
      "[Parallel(n_jobs=1)]: Done 100 out of 100 | elapsed:    0.0s finished\n",
      "[Parallel(n_jobs=1)]: Using backend SequentialBackend with 1 concurrent workers.\n",
      "[Parallel(n_jobs=1)]: Done 100 out of 100 | elapsed:    0.9s finished\n",
      "[Parallel(n_jobs=1)]: Using backend SequentialBackend with 1 concurrent workers.\n",
      "[Parallel(n_jobs=1)]: Done 100 out of 100 | elapsed:    0.0s finished\n",
      "[Parallel(n_jobs=1)]: Using backend SequentialBackend with 1 concurrent workers.\n",
      "[Parallel(n_jobs=1)]: Done 100 out of 100 | elapsed:    0.0s finished\n",
      "[Parallel(n_jobs=1)]: Using backend SequentialBackend with 1 concurrent workers.\n",
      "[Parallel(n_jobs=1)]: Done 100 out of 100 | elapsed:    0.9s finished\n",
      "[Parallel(n_jobs=1)]: Using backend SequentialBackend with 1 concurrent workers.\n",
      "[Parallel(n_jobs=1)]: Done 100 out of 100 | elapsed:    0.0s finished\n",
      "[Parallel(n_jobs=1)]: Using backend SequentialBackend with 1 concurrent workers.\n",
      "[Parallel(n_jobs=1)]: Done 100 out of 100 | elapsed:    0.0s finished\n",
      "[Parallel(n_jobs=1)]: Using backend SequentialBackend with 1 concurrent workers.\n",
      "[Parallel(n_jobs=1)]: Done 100 out of 100 | elapsed:    0.9s finished\n",
      "[Parallel(n_jobs=1)]: Using backend SequentialBackend with 1 concurrent workers.\n",
      "[Parallel(n_jobs=1)]: Done 100 out of 100 | elapsed:    0.0s finished\n",
      "[Parallel(n_jobs=1)]: Using backend SequentialBackend with 1 concurrent workers.\n",
      "[Parallel(n_jobs=1)]: Done 100 out of 100 | elapsed:    0.0s finished\n"
     ]
    }
   ],
   "source": [
    "# Modified\n",
    "# re-run old result for ArcA-1 and ArcA-2\n",
    "\n",
    "from sklearn.metrics import accuracy_score\n",
    "from imblearn.under_sampling import ClusterCentroids, CondensedNearestNeighbour\n",
    "from imblearn.over_sampling import SMOTE, ADASYN, RandomOverSampler, KMeansSMOTE, SVMSMOTE\n",
    "from imblearn.combine import SMOTETomek\n",
    "from sklearn.decomposition import PCA\n",
    "import seaborn as sns\n",
    "from sklearn.model_selection import KFold\n",
    "from sklearn.metrics import roc_auc_score, accuracy_score\n",
    "\n",
    "result_df_ori = resample_5v(oversampler=SMOTETomek, features_table=eng_features_stdd, num_neighbors=5, SMOTE_only = True, exact_repeats_boost=0.1,\n",
    "                target_labels=target_labels, reduced_ratio=1, N_CV=5)"
   ]
  },
  {
   "cell_type": "code",
   "execution_count": 33,
   "metadata": {
    "scrolled": true
   },
   "outputs": [
    {
     "name": "stdout",
     "output_type": "stream",
     "text": [
      "LR: ArcA-1\n"
     ]
    },
    {
     "name": "stderr",
     "output_type": "stream",
     "text": [
      "The max_iter was reached which means the coef_ did not converge\n",
      "The max_iter was reached which means the coef_ did not converge\n",
      "The max_iter was reached which means the coef_ did not converge\n",
      "The max_iter was reached which means the coef_ did not converge\n",
      "The max_iter was reached which means the coef_ did not converge\n"
     ]
    },
    {
     "name": "stdout",
     "output_type": "stream",
     "text": [
      "LR: ArcA-2\n"
     ]
    },
    {
     "name": "stderr",
     "output_type": "stream",
     "text": [
      "The max_iter was reached which means the coef_ did not converge\n",
      "The max_iter was reached which means the coef_ did not converge\n",
      "The max_iter was reached which means the coef_ did not converge\n",
      "The max_iter was reached which means the coef_ did not converge\n",
      "The max_iter was reached which means the coef_ did not converge\n"
     ]
    },
    {
     "name": "stdout",
     "output_type": "stream",
     "text": [
      "SVM: ArcA-1\n",
      "[LibLinear]"
     ]
    },
    {
     "name": "stderr",
     "output_type": "stream",
     "text": [
      "Liblinear failed to converge, increase the number of iterations.\n"
     ]
    },
    {
     "name": "stdout",
     "output_type": "stream",
     "text": [
      "[LibLinear]"
     ]
    },
    {
     "name": "stderr",
     "output_type": "stream",
     "text": [
      "Liblinear failed to converge, increase the number of iterations.\n"
     ]
    },
    {
     "name": "stdout",
     "output_type": "stream",
     "text": [
      "[LibLinear]"
     ]
    },
    {
     "name": "stderr",
     "output_type": "stream",
     "text": [
      "Liblinear failed to converge, increase the number of iterations.\n"
     ]
    },
    {
     "name": "stdout",
     "output_type": "stream",
     "text": [
      "[LibLinear]"
     ]
    },
    {
     "name": "stderr",
     "output_type": "stream",
     "text": [
      "Liblinear failed to converge, increase the number of iterations.\n"
     ]
    },
    {
     "name": "stdout",
     "output_type": "stream",
     "text": [
      "[LibLinear]"
     ]
    },
    {
     "name": "stderr",
     "output_type": "stream",
     "text": [
      "Liblinear failed to converge, increase the number of iterations.\n"
     ]
    },
    {
     "name": "stdout",
     "output_type": "stream",
     "text": [
      "SVM: ArcA-2\n",
      "[LibLinear]"
     ]
    },
    {
     "name": "stderr",
     "output_type": "stream",
     "text": [
      "Liblinear failed to converge, increase the number of iterations.\n"
     ]
    },
    {
     "name": "stdout",
     "output_type": "stream",
     "text": [
      "[LibLinear]"
     ]
    },
    {
     "name": "stderr",
     "output_type": "stream",
     "text": [
      "Liblinear failed to converge, increase the number of iterations.\n"
     ]
    },
    {
     "name": "stdout",
     "output_type": "stream",
     "text": [
      "[LibLinear]"
     ]
    },
    {
     "name": "stderr",
     "output_type": "stream",
     "text": [
      "Liblinear failed to converge, increase the number of iterations.\n"
     ]
    },
    {
     "name": "stdout",
     "output_type": "stream",
     "text": [
      "[LibLinear]"
     ]
    },
    {
     "name": "stderr",
     "output_type": "stream",
     "text": [
      "Liblinear failed to converge, increase the number of iterations.\n"
     ]
    },
    {
     "name": "stdout",
     "output_type": "stream",
     "text": [
      "[LibLinear]"
     ]
    },
    {
     "name": "stderr",
     "output_type": "stream",
     "text": [
      "Liblinear failed to converge, increase the number of iterations.\n"
     ]
    },
    {
     "name": "stdout",
     "output_type": "stream",
     "text": [
      "RF: ArcA-1\n"
     ]
    },
    {
     "name": "stderr",
     "output_type": "stream",
     "text": [
      "[Parallel(n_jobs=1)]: Using backend SequentialBackend with 1 concurrent workers.\n",
      "[Parallel(n_jobs=1)]: Done 100 out of 100 | elapsed:    1.8s finished\n",
      "[Parallel(n_jobs=1)]: Using backend SequentialBackend with 1 concurrent workers.\n",
      "[Parallel(n_jobs=1)]: Done 100 out of 100 | elapsed:    0.0s finished\n",
      "[Parallel(n_jobs=1)]: Using backend SequentialBackend with 1 concurrent workers.\n",
      "[Parallel(n_jobs=1)]: Done 100 out of 100 | elapsed:    0.0s finished\n",
      "[Parallel(n_jobs=1)]: Using backend SequentialBackend with 1 concurrent workers.\n",
      "[Parallel(n_jobs=1)]: Done 100 out of 100 | elapsed:    1.9s finished\n",
      "[Parallel(n_jobs=1)]: Using backend SequentialBackend with 1 concurrent workers.\n",
      "[Parallel(n_jobs=1)]: Done 100 out of 100 | elapsed:    0.0s finished\n",
      "[Parallel(n_jobs=1)]: Using backend SequentialBackend with 1 concurrent workers.\n",
      "[Parallel(n_jobs=1)]: Done 100 out of 100 | elapsed:    0.0s finished\n",
      "[Parallel(n_jobs=1)]: Using backend SequentialBackend with 1 concurrent workers.\n",
      "[Parallel(n_jobs=1)]: Done 100 out of 100 | elapsed:    1.7s finished\n",
      "[Parallel(n_jobs=1)]: Using backend SequentialBackend with 1 concurrent workers.\n",
      "[Parallel(n_jobs=1)]: Done 100 out of 100 | elapsed:    0.0s finished\n",
      "[Parallel(n_jobs=1)]: Using backend SequentialBackend with 1 concurrent workers.\n",
      "[Parallel(n_jobs=1)]: Done 100 out of 100 | elapsed:    0.0s finished\n",
      "[Parallel(n_jobs=1)]: Using backend SequentialBackend with 1 concurrent workers.\n",
      "[Parallel(n_jobs=1)]: Done 100 out of 100 | elapsed:    1.6s finished\n",
      "[Parallel(n_jobs=1)]: Using backend SequentialBackend with 1 concurrent workers.\n",
      "[Parallel(n_jobs=1)]: Done 100 out of 100 | elapsed:    0.0s finished\n",
      "[Parallel(n_jobs=1)]: Using backend SequentialBackend with 1 concurrent workers.\n",
      "[Parallel(n_jobs=1)]: Done 100 out of 100 | elapsed:    0.0s finished\n",
      "[Parallel(n_jobs=1)]: Using backend SequentialBackend with 1 concurrent workers.\n",
      "[Parallel(n_jobs=1)]: Done 100 out of 100 | elapsed:    1.6s finished\n",
      "[Parallel(n_jobs=1)]: Using backend SequentialBackend with 1 concurrent workers.\n",
      "[Parallel(n_jobs=1)]: Done 100 out of 100 | elapsed:    0.0s finished\n",
      "[Parallel(n_jobs=1)]: Using backend SequentialBackend with 1 concurrent workers.\n",
      "[Parallel(n_jobs=1)]: Done 100 out of 100 | elapsed:    0.0s finished\n"
     ]
    },
    {
     "name": "stdout",
     "output_type": "stream",
     "text": [
      "RF: ArcA-2\n"
     ]
    },
    {
     "name": "stderr",
     "output_type": "stream",
     "text": [
      "[Parallel(n_jobs=1)]: Using backend SequentialBackend with 1 concurrent workers.\n",
      "[Parallel(n_jobs=1)]: Done 100 out of 100 | elapsed:    0.8s finished\n",
      "[Parallel(n_jobs=1)]: Using backend SequentialBackend with 1 concurrent workers.\n",
      "[Parallel(n_jobs=1)]: Done 100 out of 100 | elapsed:    0.0s finished\n",
      "[Parallel(n_jobs=1)]: Using backend SequentialBackend with 1 concurrent workers.\n",
      "[Parallel(n_jobs=1)]: Done 100 out of 100 | elapsed:    0.0s finished\n",
      "[Parallel(n_jobs=1)]: Using backend SequentialBackend with 1 concurrent workers.\n",
      "[Parallel(n_jobs=1)]: Done 100 out of 100 | elapsed:    1.1s finished\n",
      "[Parallel(n_jobs=1)]: Using backend SequentialBackend with 1 concurrent workers.\n",
      "[Parallel(n_jobs=1)]: Done 100 out of 100 | elapsed:    0.0s finished\n",
      "[Parallel(n_jobs=1)]: Using backend SequentialBackend with 1 concurrent workers.\n",
      "[Parallel(n_jobs=1)]: Done 100 out of 100 | elapsed:    0.0s finished\n",
      "[Parallel(n_jobs=1)]: Using backend SequentialBackend with 1 concurrent workers.\n",
      "[Parallel(n_jobs=1)]: Done 100 out of 100 | elapsed:    0.9s finished\n",
      "[Parallel(n_jobs=1)]: Using backend SequentialBackend with 1 concurrent workers.\n",
      "[Parallel(n_jobs=1)]: Done 100 out of 100 | elapsed:    0.0s finished\n",
      "[Parallel(n_jobs=1)]: Using backend SequentialBackend with 1 concurrent workers.\n",
      "[Parallel(n_jobs=1)]: Done 100 out of 100 | elapsed:    0.0s finished\n",
      "[Parallel(n_jobs=1)]: Using backend SequentialBackend with 1 concurrent workers.\n",
      "[Parallel(n_jobs=1)]: Done 100 out of 100 | elapsed:    0.9s finished\n",
      "[Parallel(n_jobs=1)]: Using backend SequentialBackend with 1 concurrent workers.\n",
      "[Parallel(n_jobs=1)]: Done 100 out of 100 | elapsed:    0.0s finished\n",
      "[Parallel(n_jobs=1)]: Using backend SequentialBackend with 1 concurrent workers.\n",
      "[Parallel(n_jobs=1)]: Done 100 out of 100 | elapsed:    0.0s finished\n",
      "[Parallel(n_jobs=1)]: Using backend SequentialBackend with 1 concurrent workers.\n",
      "[Parallel(n_jobs=1)]: Done 100 out of 100 | elapsed:    0.8s finished\n",
      "[Parallel(n_jobs=1)]: Using backend SequentialBackend with 1 concurrent workers.\n",
      "[Parallel(n_jobs=1)]: Done 100 out of 100 | elapsed:    0.0s finished\n",
      "[Parallel(n_jobs=1)]: Using backend SequentialBackend with 1 concurrent workers.\n",
      "[Parallel(n_jobs=1)]: Done 100 out of 100 | elapsed:    0.0s finished\n"
     ]
    }
   ],
   "source": [
    "# Modified\n",
    "result_df_new = resample_5v(oversampler=SMOTETomek, features_table=X_DR_new, num_neighbors=5, SMOTE_only = True, exact_repeats_boost=0.1,\n",
    "                target_labels=target_labels, reduced_ratio=1, N_CV=5)"
   ]
  },
  {
   "cell_type": "code",
   "execution_count": 34,
   "metadata": {
    "scrolled": true
   },
   "outputs": [
    {
     "name": "stdout",
     "output_type": "stream",
     "text": [
      "LR: ArcA-1\n"
     ]
    },
    {
     "name": "stderr",
     "output_type": "stream",
     "text": [
      "The max_iter was reached which means the coef_ did not converge\n",
      "The max_iter was reached which means the coef_ did not converge\n",
      "The max_iter was reached which means the coef_ did not converge\n",
      "The max_iter was reached which means the coef_ did not converge\n",
      "The max_iter was reached which means the coef_ did not converge\n"
     ]
    },
    {
     "name": "stdout",
     "output_type": "stream",
     "text": [
      "LR: ArcA-2\n"
     ]
    },
    {
     "name": "stderr",
     "output_type": "stream",
     "text": [
      "The max_iter was reached which means the coef_ did not converge\n",
      "The max_iter was reached which means the coef_ did not converge\n",
      "The max_iter was reached which means the coef_ did not converge\n",
      "The max_iter was reached which means the coef_ did not converge\n",
      "The max_iter was reached which means the coef_ did not converge\n"
     ]
    },
    {
     "name": "stdout",
     "output_type": "stream",
     "text": [
      "SVM: ArcA-1\n",
      "[LibLinear]"
     ]
    },
    {
     "name": "stderr",
     "output_type": "stream",
     "text": [
      "Liblinear failed to converge, increase the number of iterations.\n"
     ]
    },
    {
     "name": "stdout",
     "output_type": "stream",
     "text": [
      "[LibLinear]"
     ]
    },
    {
     "name": "stderr",
     "output_type": "stream",
     "text": [
      "Liblinear failed to converge, increase the number of iterations.\n"
     ]
    },
    {
     "name": "stdout",
     "output_type": "stream",
     "text": [
      "[LibLinear]"
     ]
    },
    {
     "name": "stderr",
     "output_type": "stream",
     "text": [
      "Liblinear failed to converge, increase the number of iterations.\n"
     ]
    },
    {
     "name": "stdout",
     "output_type": "stream",
     "text": [
      "[LibLinear]"
     ]
    },
    {
     "name": "stderr",
     "output_type": "stream",
     "text": [
      "Liblinear failed to converge, increase the number of iterations.\n"
     ]
    },
    {
     "name": "stdout",
     "output_type": "stream",
     "text": [
      "[LibLinear]"
     ]
    },
    {
     "name": "stderr",
     "output_type": "stream",
     "text": [
      "Liblinear failed to converge, increase the number of iterations.\n"
     ]
    },
    {
     "name": "stdout",
     "output_type": "stream",
     "text": [
      "SVM: ArcA-2\n",
      "[LibLinear]"
     ]
    },
    {
     "name": "stderr",
     "output_type": "stream",
     "text": [
      "Liblinear failed to converge, increase the number of iterations.\n"
     ]
    },
    {
     "name": "stdout",
     "output_type": "stream",
     "text": [
      "[LibLinear]"
     ]
    },
    {
     "name": "stderr",
     "output_type": "stream",
     "text": [
      "Liblinear failed to converge, increase the number of iterations.\n"
     ]
    },
    {
     "name": "stdout",
     "output_type": "stream",
     "text": [
      "[LibLinear]"
     ]
    },
    {
     "name": "stderr",
     "output_type": "stream",
     "text": [
      "Liblinear failed to converge, increase the number of iterations.\n"
     ]
    },
    {
     "name": "stdout",
     "output_type": "stream",
     "text": [
      "[LibLinear]"
     ]
    },
    {
     "name": "stderr",
     "output_type": "stream",
     "text": [
      "Liblinear failed to converge, increase the number of iterations.\n"
     ]
    },
    {
     "name": "stdout",
     "output_type": "stream",
     "text": [
      "[LibLinear]"
     ]
    },
    {
     "name": "stderr",
     "output_type": "stream",
     "text": [
      "Liblinear failed to converge, increase the number of iterations.\n",
      "[Parallel(n_jobs=1)]: Using backend SequentialBackend with 1 concurrent workers.\n"
     ]
    },
    {
     "name": "stdout",
     "output_type": "stream",
     "text": [
      "RF: ArcA-1\n"
     ]
    },
    {
     "name": "stderr",
     "output_type": "stream",
     "text": [
      "[Parallel(n_jobs=1)]: Done 100 out of 100 | elapsed:    1.5s finished\n",
      "[Parallel(n_jobs=1)]: Using backend SequentialBackend with 1 concurrent workers.\n",
      "[Parallel(n_jobs=1)]: Done 100 out of 100 | elapsed:    0.0s finished\n",
      "[Parallel(n_jobs=1)]: Using backend SequentialBackend with 1 concurrent workers.\n",
      "[Parallel(n_jobs=1)]: Done 100 out of 100 | elapsed:    0.0s finished\n",
      "[Parallel(n_jobs=1)]: Using backend SequentialBackend with 1 concurrent workers.\n",
      "[Parallel(n_jobs=1)]: Done 100 out of 100 | elapsed:    1.5s finished\n",
      "[Parallel(n_jobs=1)]: Using backend SequentialBackend with 1 concurrent workers.\n",
      "[Parallel(n_jobs=1)]: Done 100 out of 100 | elapsed:    0.0s finished\n",
      "[Parallel(n_jobs=1)]: Using backend SequentialBackend with 1 concurrent workers.\n",
      "[Parallel(n_jobs=1)]: Done 100 out of 100 | elapsed:    0.0s finished\n",
      "[Parallel(n_jobs=1)]: Using backend SequentialBackend with 1 concurrent workers.\n",
      "[Parallel(n_jobs=1)]: Done 100 out of 100 | elapsed:    1.3s finished\n",
      "[Parallel(n_jobs=1)]: Using backend SequentialBackend with 1 concurrent workers.\n",
      "[Parallel(n_jobs=1)]: Done 100 out of 100 | elapsed:    0.0s finished\n",
      "[Parallel(n_jobs=1)]: Using backend SequentialBackend with 1 concurrent workers.\n",
      "[Parallel(n_jobs=1)]: Done 100 out of 100 | elapsed:    0.0s finished\n",
      "[Parallel(n_jobs=1)]: Using backend SequentialBackend with 1 concurrent workers.\n",
      "[Parallel(n_jobs=1)]: Done 100 out of 100 | elapsed:    1.1s finished\n",
      "[Parallel(n_jobs=1)]: Using backend SequentialBackend with 1 concurrent workers.\n",
      "[Parallel(n_jobs=1)]: Done 100 out of 100 | elapsed:    0.0s finished\n",
      "[Parallel(n_jobs=1)]: Using backend SequentialBackend with 1 concurrent workers.\n",
      "[Parallel(n_jobs=1)]: Done 100 out of 100 | elapsed:    0.0s finished\n",
      "[Parallel(n_jobs=1)]: Using backend SequentialBackend with 1 concurrent workers.\n",
      "[Parallel(n_jobs=1)]: Done 100 out of 100 | elapsed:    1.3s finished\n",
      "[Parallel(n_jobs=1)]: Using backend SequentialBackend with 1 concurrent workers.\n",
      "[Parallel(n_jobs=1)]: Done 100 out of 100 | elapsed:    0.0s finished\n",
      "[Parallel(n_jobs=1)]: Using backend SequentialBackend with 1 concurrent workers.\n",
      "[Parallel(n_jobs=1)]: Done 100 out of 100 | elapsed:    0.0s finished\n"
     ]
    },
    {
     "name": "stdout",
     "output_type": "stream",
     "text": [
      "RF: ArcA-2\n"
     ]
    },
    {
     "name": "stderr",
     "output_type": "stream",
     "text": [
      "[Parallel(n_jobs=1)]: Using backend SequentialBackend with 1 concurrent workers.\n",
      "[Parallel(n_jobs=1)]: Done 100 out of 100 | elapsed:    0.5s finished\n",
      "[Parallel(n_jobs=1)]: Using backend SequentialBackend with 1 concurrent workers.\n",
      "[Parallel(n_jobs=1)]: Done 100 out of 100 | elapsed:    0.0s finished\n",
      "[Parallel(n_jobs=1)]: Using backend SequentialBackend with 1 concurrent workers.\n",
      "[Parallel(n_jobs=1)]: Done 100 out of 100 | elapsed:    0.0s finished\n",
      "[Parallel(n_jobs=1)]: Using backend SequentialBackend with 1 concurrent workers.\n",
      "[Parallel(n_jobs=1)]: Done 100 out of 100 | elapsed:    0.7s finished\n",
      "[Parallel(n_jobs=1)]: Using backend SequentialBackend with 1 concurrent workers.\n",
      "[Parallel(n_jobs=1)]: Done 100 out of 100 | elapsed:    0.0s finished\n",
      "[Parallel(n_jobs=1)]: Using backend SequentialBackend with 1 concurrent workers.\n",
      "[Parallel(n_jobs=1)]: Done 100 out of 100 | elapsed:    0.0s finished\n",
      "[Parallel(n_jobs=1)]: Using backend SequentialBackend with 1 concurrent workers.\n",
      "[Parallel(n_jobs=1)]: Done 100 out of 100 | elapsed:    0.6s finished\n",
      "[Parallel(n_jobs=1)]: Using backend SequentialBackend with 1 concurrent workers.\n",
      "[Parallel(n_jobs=1)]: Done 100 out of 100 | elapsed:    0.0s finished\n",
      "[Parallel(n_jobs=1)]: Using backend SequentialBackend with 1 concurrent workers.\n",
      "[Parallel(n_jobs=1)]: Done 100 out of 100 | elapsed:    0.0s finished\n",
      "[Parallel(n_jobs=1)]: Using backend SequentialBackend with 1 concurrent workers.\n",
      "[Parallel(n_jobs=1)]: Done 100 out of 100 | elapsed:    0.6s finished\n",
      "[Parallel(n_jobs=1)]: Using backend SequentialBackend with 1 concurrent workers.\n",
      "[Parallel(n_jobs=1)]: Done 100 out of 100 | elapsed:    0.0s finished\n",
      "[Parallel(n_jobs=1)]: Using backend SequentialBackend with 1 concurrent workers.\n",
      "[Parallel(n_jobs=1)]: Done 100 out of 100 | elapsed:    0.0s finished\n",
      "[Parallel(n_jobs=1)]: Using backend SequentialBackend with 1 concurrent workers.\n",
      "[Parallel(n_jobs=1)]: Done 100 out of 100 | elapsed:    0.6s finished\n",
      "[Parallel(n_jobs=1)]: Using backend SequentialBackend with 1 concurrent workers.\n",
      "[Parallel(n_jobs=1)]: Done 100 out of 100 | elapsed:    0.0s finished\n",
      "[Parallel(n_jobs=1)]: Using backend SequentialBackend with 1 concurrent workers.\n",
      "[Parallel(n_jobs=1)]: Done 100 out of 100 | elapsed:    0.0s finished\n"
     ]
    }
   ],
   "source": [
    "# Modified\n",
    "result_df_motif = resample_5v(oversampler=SMOTETomek, features_table=motif_only_df, num_neighbors=5, SMOTE_only = True, exact_repeats_boost=0.1,\n",
    "                target_labels=target_labels, reduced_ratio=1, N_CV=5)"
   ]
  },
  {
   "cell_type": "code",
   "execution_count": null,
   "metadata": {},
   "outputs": [],
   "source": [
    "# #original code\n",
    "# before_score = list(hyperopt_LR_old_df[hyperopt_LR_old_df['im']=='ArcA']['mean_test_score'])\n",
    "# after_score = list(hyperopt_LR_df[hyperopt_LR_df['im']=='ArcA']['mean_test_score'])\n",
    "# score_list = before_score+after_score\n",
    "# model_state = ['Before(ChIP_motif)' for i in range(25)] + ['After(DR_motif)' for i in range(25)]\n",
    "# plt.figure(figsize=(5,5))\n",
    "# sns.boxplot(x=model_state,y=score_list,width=0.5)\n",
    "# plt.title(\"ArcA ICA Regulon Prediction\")\n",
    "# plt.ylabel(\"AUC_ROC\")\n",
    "# plt.ylim([0.4,1.01])\n",
    "# plt.axhline(y= 0.5, color = 'r', ls = '--')\n",
    "# plt.axhline(y= 0.8, color = 'r', ls = '--')"
   ]
  },
  {
   "cell_type": "code",
   "execution_count": 35,
   "metadata": {
    "scrolled": true
   },
   "outputs": [
    {
     "data": {
      "image/png": "[encoded data removed]",
      "text/plain": [
       "<Figure size 576x432 with 1 Axes>"
      ]
     },
     "metadata": {
      "needs_background": "light"
     },
     "output_type": "display_data"
    }
   ],
   "source": [
    "# Modified\n",
    "#ArcA-1 uses LR model\n",
    "\n",
    "# before_score = list(hyperopt_LR_old_df[hyperopt_LR_old_df['im']=='ArcA']['mean_test_score'])\n",
    "# after_score = list(hyperopt_LR_df[hyperopt_LR_df['im']=='ArcA']['mean_test_score'])\n",
    "\n",
    "# result_df = result_df[result_df['model'] != 'RF']\n",
    "# result_df = result_df[result_df['model'] != 'SVM']\n",
    "result_df_ori = result_df_ori[result_df_ori['model'] != 'RF']\n",
    "result_df_ori = result_df_ori[result_df_ori['model'] != 'SVM']\n",
    "result_df_new = result_df_new[result_df_new['model'] != 'RF']\n",
    "result_df_new = result_df_new[result_df_new['model'] != 'SVM']\n",
    "result_df_motif = result_df_motif[result_df_motif['model']=='LR']\n",
    "\n",
    "# before_score = list(result_df[result_df['im']=='ArcA-1']['test_auc'])\n",
    "before_score = list(result_df_ori[result_df_ori['im']=='ArcA-1']['test_auc'])\n",
    "after_score = list(result_df_new[result_df_new['im']=='ArcA-1']['test_auc'])\n",
    "motif_score = list(result_df_motif[result_df_motif['im']=='ArcA-1']['test_auc'])\n",
    "\n",
    "ArcA1_box = {'ChIP_motif': motif_score, 'Eng + ChIP_motif': before_score, 'Eng + ChIP_motif + DR_motif':after_score}\n",
    "\n",
    "fig, ax = plt.subplots(figsize=(8,6))\n",
    "ax.boxplot(ArcA1_box.values())\n",
    "ax.set_xticklabels(ArcA1_box.keys())\n",
    "\n",
    "# plt.figure(figsize=(5,5))\n",
    "# sns.boxplot(x=model_state,y=score_list,width=0.5)\n",
    "plt.title(\"ArcA-1 ICA Regulon Prediction\")\n",
    "plt.ylabel(\"AUC_ROC\")\n",
    "plt.ylim([0.4,1.01])\n",
    "plt.axhline(y= 0.5, color = 'r', ls = '--')\n",
    "plt.axhline(y= 0.8, color = 'r', ls = '--')\n",
    "plt.savefig('../data/Figures/Figure 3C.svg', bbox_inches='tight') "
   ]
  },
  {
   "cell_type": "code",
   "execution_count": null,
   "metadata": {},
   "outputs": [],
   "source": [
    "# # Modified [Not Use]\n",
    "# #ArcA-2 uses SVM model\n",
    "\n",
    "# result_df_ori = result_df_ori[result_df_ori['model'] != 'RF']\n",
    "# result_df_ori = result_df_ori[result_df_ori['model'] != 'SVM']\n",
    "# result_df_new = result_df_new[result_df_new['model'] != 'RF']\n",
    "# result_df_new = result_df_new[result_df_new['model'] != 'SVM']\n",
    "\n",
    "# before_score = list(result_df_ori[result_df_ori['im']=='ArcA-2']['test_auc'])\n",
    "# after_score = list(result_df_new[result_df_new['im']=='ArcA-2']['test_auc'])\n",
    "# ArcA1_box = {'Before(ChIP_motif)': before_score, 'After(DR_motif)':after_score}\n",
    "\n",
    "# fig, ax = plt.subplots()\n",
    "# ax.boxplot(ArcA1_box.values())\n",
    "# ax.set_xticklabels(ArcA1_box.keys())\n",
    "# plt.title(\"ArcA-2 ICA Regulon Prediction\")\n",
    "# plt.ylabel(\"AUC_ROC\")\n",
    "# plt.ylim([0.4,1.01])\n",
    "# plt.axhline(y= 0.5, color = 'r', ls = '--')\n",
    "# plt.axhline(y= 0.8, color = 'r', ls = '--')"
   ]
  },
  {
   "cell_type": "code",
   "execution_count": 36,
   "metadata": {},
   "outputs": [],
   "source": [
    "import shap\n",
    "from sklearn.model_selection import train_test_split\n",
    "DR_features= list(avg_DR.columns[1:])"
   ]
  },
  {
   "cell_type": "code",
   "execution_count": 37,
   "metadata": {},
   "outputs": [],
   "source": [
    "# Modified\n",
    "# X_DR without im score\n",
    "\n",
    "X_DR_no_im = copy.copy(X_DR_new)\n",
    "X_DR_no_im = X_DR_no_im.drop(columns = ['ArcA-1 im score', 'ArcA-1 im_shape_ld','ArcA-2 im score', 'ArcA-2 im_shape_ld'])"
   ]
  },
  {
   "cell_type": "code",
   "execution_count": 38,
   "metadata": {
    "scrolled": false
   },
   "outputs": [
    {
     "name": "stderr",
     "output_type": "stream",
     "text": [
      "[Parallel(n_jobs=1)]: Using backend SequentialBackend with 1 concurrent workers.\n"
     ]
    },
    {
     "name": "stdout",
     "output_type": "stream",
     "text": [
      "convergence after 334 epochs took 3 seconds\n"
     ]
    },
    {
     "name": "stderr",
     "output_type": "stream",
     "text": [
      "[Parallel(n_jobs=1)]: Done   1 out of   1 | elapsed:    3.6s finished\n",
      "findfont: Font family ['sans-serif'] not found. Falling back to DejaVu Sans.\n",
      "findfont: Generic family 'sans-serif' not found because none of the following families were found: Helvetica\n",
      "findfont: Font family ['sans-serif'] not found. Falling back to DejaVu Sans.\n",
      "findfont: Generic family 'sans-serif' not found because none of the following families were found: Helvetica\n"
     ]
    },
    {
     "data": {
      "image/png": "[encoded data removed]",
      "text/plain": [
       "<Figure size 576x280.8 with 2 Axes>"
      ]
     },
     "metadata": {
      "needs_background": "light"
     },
     "output_type": "display_data"
    }
   ],
   "source": [
    "# Modified\n",
    "# ArcA-1 features \n",
    "\n",
    "reduced_ratio=1\n",
    "num_neighbors=5\n",
    "\n",
    "clf_ica = LogisticRegression(solver='saga',penalty = 'elasticnet', l1_ratio=0.5, max_iter=1000,C=0.16378937069540642,class_weight='balanced',verbose=1)\n",
    "\n",
    "# X_ica_fi = pd.DataFrame(\n",
    "# #     X_DR, columns= DR_features,\n",
    "#     index=avg_DR.index\n",
    "# )\n",
    "\n",
    "X_ica_fi=X_DR_no_im\n",
    "# X_ica_fi=X_DR_no_ArcA\n",
    "y_ica_fi = pd.Series(y_to_try['ArcA-1'] )\n",
    "# X_train, X_test, y_train, y_test = train_test_split( X_ica_fi, y_ica_fi, test_size=0.2, random_state=7)\n",
    "\n",
    "# Only use RandomOverSampling to boost the samples number over num_neighbors+1\n",
    "if len([l for l in y_ica_fi if l==1])<=num_neighbors:\n",
    "    exact_repeats_boost = (num_neighbors+1)/len([l for l in y_ica_fi if l==0])                \n",
    "    rs = RandomOverSampler(sampling_strategy = exact_repeats_boost)\n",
    "    X_ica_fi, y_ica_fi = rs.fit_resample(X_ica_fi, y_ica_fi)\n",
    "\n",
    "over = SMOTETomek(sampling_strategy = reduced_ratio, smote = SMOTE(k_neighbors = num_neighbors))\n",
    "X_ica_fi, y_ica_fi = over.fit_resample(X_ica_fi, y_ica_fi)\n",
    "    \n",
    "clf_ica.fit(X_ica_fi, y_ica_fi)\n",
    "explainer = shap.Explainer(clf_ica, X_ica_fi)\n",
    "shap_values = explainer(X_ica_fi)\n",
    "plt.title('ArcA-1 ICA Regulon Prediction')\n",
    "shap.plots.beeswarm(copy.deepcopy(shap_values),max_display=6,show=False)\n",
    "plt.savefig('../data/Figure 3D.svg', bbox_inches='tight') "
   ]
  },
  {
   "cell_type": "code",
   "execution_count": null,
   "metadata": {},
   "outputs": [],
   "source": [
    "# # Modified [Not Use]\n",
    "# # ArcA-2 features \n",
    "\n",
    "# reduced_ratio=1\n",
    "# num_neighbors=5\n",
    "\n",
    "# clf_ica = LogisticRegression(solver='saga',penalty = 'elasticnet', l1_ratio=0.5, max_iter=1000,C=0.16378937069540642,class_weight='balanced',verbose=1)\n",
    "\n",
    "# # X_ica_fi = pd.DataFrame(\n",
    "# # #     X_DR, columns= DR_features,\n",
    "# #     index=avg_DR.index\n",
    "# # )\n",
    "\n",
    "# X_ica_fi=X_DR_no_im\n",
    "# y_ica_fi = pd.Series(y_to_try['ArcA-2'] )\n",
    "# # X_train, X_test, y_train, y_test = train_test_split( X_ica_fi, y_ica_fi, test_size=0.2, random_state=7)\n",
    "\n",
    "\n",
    "# # Only use RandomOverSampling to boost the samples number over num_neighbors+1\n",
    "# if len([l for l in y_ica_fi if l==1])<=num_neighbors:\n",
    "#     exact_repeats_boost = (num_neighbors+1)/len([l for l in y_ica_fi if l==0])                \n",
    "#     rs = RandomOverSampler(sampling_strategy = exact_repeats_boost)\n",
    "#     X_ica_fi, y_ica_fi = rs.fit_resample(X_ica_fi, y_ica_fi)\n",
    "\n",
    "# over = SMOTETomek(sampling_strategy = reduced_ratio, smote = SMOTE(k_neighbors = num_neighbors))\n",
    "# X_ica_fi, y_ica_fi = over.fit_resample(X_ica_fi, y_ica_fi)\n",
    "\n",
    "# clf_ica.fit(X_ica_fi, y_ica_fi)\n",
    "# explainer = shap.Explainer(clf_ica, X_ica_fi )\n",
    "# shap_values = explainer(X_ica_fi)\n",
    "# plt.title('ArcA-2 ICA Regulon Prediction')\n",
    "# shap.plots.beeswarm(shap_values,max_display=6,show=False)\n",
    "# # plt.savefig('../data/ArcA-2 ICA Regulon Prediction', bbox_inches='tight') "
   ]
  },
  {
   "cell_type": "code",
   "execution_count": 39,
   "metadata": {
    "scrolled": false
   },
   "outputs": [
    {
     "name": "stdout",
     "output_type": "stream",
     "text": [
      "convergence after 45 epochs took 0 seconds\n"
     ]
    },
    {
     "name": "stderr",
     "output_type": "stream",
     "text": [
      "[Parallel(n_jobs=1)]: Using backend SequentialBackend with 1 concurrent workers.\n",
      "[Parallel(n_jobs=1)]: Done   1 out of   1 | elapsed:    0.0s finished\n"
     ]
    },
    {
     "data": {
      "image/png": "[encoded data removed]",
      "text/plain": [
       "<Figure size 576x280.8 with 2 Axes>"
      ]
     },
     "metadata": {
      "needs_background": "light"
     },
     "output_type": "display_data"
    }
   ],
   "source": [
    "clf_chip = LogisticRegression(solver='saga',penalty = 'l1',max_iter=200,C=0.26,class_weight='balanced',verbose=1)\n",
    "X_chip_fi = pd.DataFrame(\n",
    "    X_DR, columns= DR_features,\n",
    "    index=avg_DR.index\n",
    ")\n",
    "y_chip_fi = pd.Series( y_to_try['ArcA_regulon'] )\n",
    "X_train, X_test, y_train, y_test = train_test_split( X_chip_fi, y_chip_fi, test_size=0.2, random_state=7)\n",
    "clf_chip.fit(X_train, y_train)\n",
    "explainer = shap.Explainer(clf_chip, X_train )\n",
    "shap_values = explainer(X_test)\n",
    "plt.title('ArcA-1 ChIP Regulon')\n",
    "shap.plots.beeswarm(shap_values,max_display=6)"
   ]
  },
  {
   "cell_type": "markdown",
   "metadata": {},
   "source": [
    "# 5. DR motif score distribution: I-Modulon(ICA regulon), ChIP regulon, and Random"
   ]
  },
  {
   "cell_type": "code",
   "execution_count": 40,
   "metadata": {},
   "outputs": [],
   "source": [
    "def categoryToList( x, category ):\n",
    "    result = {}\n",
    "    for i in range(len(x)):\n",
    "        if category[i] not in result.keys():\n",
    "            result[ category[i] ] = [ x[i] ]\n",
    "        else:\n",
    "            result[ category[i] ].append( x[i] )\n",
    "    return result"
   ]
  },
  {
   "cell_type": "code",
   "execution_count": 41,
   "metadata": {},
   "outputs": [],
   "source": [
    "# Modified\n",
    "import random\n",
    "_2DR = []\n",
    "_3DR = []\n",
    "_4DR = []\n",
    "chipmotif = []\n",
    "ArcA_category = []\n",
    "for i in range(len(avg_DR['ID'])):\n",
    "    if avg_DR['ID'][i] in regulon_genes['ArcA']:\n",
    "        ArcA_category.append('ChIP_Regulon')\n",
    "        _2DR.append( avg_DR['2DR_score'][i])\n",
    "        _3DR.append( avg_DR['3DR_score'][i])\n",
    "        _4DR.append( avg_DR['4DR_score'][i])\n",
    "        chipmotif.append(avg_features['ArcA score'][i])\n",
    "        \n",
    "    if avg_DR['ID'][i] in IM_genes['ArcA-1']: #ArcA to ArcA-1\n",
    "        ArcA_category.append('ICA_Regulon')\n",
    "        _2DR.append( avg_DR['2DR_score'][i])\n",
    "        _3DR.append( avg_DR['3DR_score'][i])\n",
    "        _4DR.append( avg_DR['4DR_score'][i])\n",
    "        chipmotif.append( avg_features['ArcA score'][i] )\n",
    "\n",
    "for i in range(200):\n",
    "    rand_index = random.randint(100,2000)\n",
    "    ArcA_category.append('Random')\n",
    "    _2DR.append( avg_DR['2DR_score'][rand_index])\n",
    "    _3DR.append( avg_DR['3DR_score'][rand_index])\n",
    "    _4DR.append( avg_DR['4DR_score'][rand_index])\n",
    "    chipmotif.append(avg_features['ArcA score'][rand_index])"
   ]
  },
  {
   "cell_type": "code",
   "execution_count": null,
   "metadata": {},
   "outputs": [],
   "source": [
    "# from scipy.stats import f_oneway\n",
    "# for i in range(4):\n",
    "#     result = categoryToList( DR_features[i] , ArcA_category  )\n",
    "#     p = f_oneway(result['ChIP_Regulon'],result['ICA_Regulon'],result['Random']).pvalue\n",
    "#     print(p)"
   ]
  },
  {
   "cell_type": "code",
   "execution_count": 42,
   "metadata": {},
   "outputs": [
    {
     "name": "stderr",
     "output_type": "stream",
     "text": [
      "Pass the following variables as keyword args: x, y. From version 0.12, the only valid positional argument will be `data`, and passing other arguments without an explicit keyword will result in an error or misinterpretation.\n",
      "Pass the following variables as keyword args: x, y. From version 0.12, the only valid positional argument will be `data`, and passing other arguments without an explicit keyword will result in an error or misinterpretation.\n",
      "Pass the following variables as keyword args: x, y. From version 0.12, the only valid positional argument will be `data`, and passing other arguments without an explicit keyword will result in an error or misinterpretation.\n",
      "Pass the following variables as keyword args: x, y. From version 0.12, the only valid positional argument will be `data`, and passing other arguments without an explicit keyword will result in an error or misinterpretation.\n"
     ]
    },
    {
     "data": {
      "image/png": "[encoded data removed]",
      "text/plain": [
       "<Figure size 1584x396 with 4 Axes>"
      ]
     },
     "metadata": {
      "needs_background": "light"
     },
     "output_type": "display_data"
    }
   ],
   "source": [
    "DR_features = [_2DR, _3DR,_4DR,chipmotif ]\n",
    "titles = ['2DR score','3DR score', '4DR score','ChIP motif score']\n",
    "fig, axs = plt.subplots(1,4,figsize= (22,5.5))\n",
    "for i in range(4):\n",
    "    sns.boxplot( ArcA_category , DR_features[i], ax = axs[i] )\n",
    "    axs[i].set_title( titles[i]+'(***)')\n",
    "    if i < 3:\n",
    "        axs[i].axhline( y = cutoff[i+2], ls = '--', color = 'red',lw=3)\n",
    "axs[0].set_ylabel('score')\n",
    "plt.savefig('../data/Figure 3F.svg', bbox_inches='tight') "
   ]
  }
 ],
 "metadata": {
  "kernelspec": {
   "display_name": "Python 3 (ipykernel)",
   "language": "python",
   "name": "python3"
  },
  "language_info": {
   "codemirror_mode": {
    "name": "ipython",
    "version": 3
   },
   "file_extension": ".py",
   "mimetype": "text/x-python",
   "name": "python",
   "nbconvert_exporter": "python",
   "pygments_lexer": "ipython3",
   "version": "3.8.7"
  },
  "toc": {
   "base_numbering": 1,
   "nav_menu": {},
   "number_sections": true,
   "sideBar": true,
   "skip_h1_title": false,
   "title_cell": "Table of Contents",
   "title_sidebar": "Contents",
   "toc_cell": false,
   "toc_position": {},
   "toc_section_display": true,
   "toc_window_display": false
  },
  "varInspector": {
   "cols": {
    "lenName": 16,
    "lenType": 16,
    "lenVar": 40
   },
   "kernels_config": {
    "python": {
     "delete_cmd_postfix": "",
     "delete_cmd_prefix": "del ",
     "library": "var_list.py",
     "varRefreshCmd": "print(var_dic_list())"
    },
    "r": {
     "delete_cmd_postfix": ") ",
     "delete_cmd_prefix": "rm(",
     "library": "var_list.r",
     "varRefreshCmd": "cat(var_dic_list()) "
    }
   },
   "types_to_exclude": [
    "module",
    "function",
    "builtin_function_or_method",
    "instance",
    "_Feature"
   ],
   "window_display": false
  }
 },
 "nbformat": 4,
 "nbformat_minor": 4
}
